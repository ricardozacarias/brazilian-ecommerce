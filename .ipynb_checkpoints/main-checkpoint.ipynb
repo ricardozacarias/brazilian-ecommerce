{
 "cells": [
  {
   "cell_type": "markdown",
   "metadata": {},
   "source": [
    "# Brazillian E-Commerce Dataset\n",
    "(Downloaded from [Kaggle](https://www.kaggle.com/olistbr/brazilian-ecommerce))\n",
    "\n",
    "**About the data:**\n",
    "> The dataset has information of 100k orders from 2016 to 2018 made at multiple marketplaces in Brazil. Its features allows viewing an order from multiple dimensions: from order status, price, payment and freight performance to customer location, product attributes and finally reviews written by customers. We also released a geolocation dataset that relates Brazilian zip codes to lat/lng coordinates.\n",
    "\n",
    "**About Olist.com**\n",
    "> This dataset was generously provided by Olist, the largest department store in Brazilian marketplaces. Olist connects small businesses from all over Brazil to channels without hassle and with a single contract. Those merchants are able to sell their products through the Olist Store and ship them directly to the customers using Olist logistics partners.\n",
    "\n",
    "**Attention**\n",
    "- An order might have multiple items.\n",
    "- Each item might be fulfilled by a distinct seller.\n",
    "- All text identifying stores and partners where replaced by the names of Game of Thrones great houses.\n",
    "\n",
    "**Schema**\n",
    "<img src=\"ds-schema.png\" style=\"width: 600px;\">\n",
    "\n",
    "### Description of columns\n",
    "\n",
    "| Dataset | Column  | Description  |\n",
    "| --- | --- | --- |\n",
    "| *Orders* | order_id | unique identifier of the order. |\n",
    "| *Orders* | customer_id | key to the customer dataset. Each order has a unique customer_id. |\n",
    "| *Orders* | order_status | Reference to the order status (delivered, shipped, etc). |\n",
    "| *Orders* | order_purchase_timestamp | Shows the purchase timestamp. |\n",
    "| *Orders* | order_approved_at | Shows the payment approval timestamp. |\n",
    "| *Orders* | order_delivered_carrier_date | Shows the order posting timestamp. When it was handled to the logistic partner. |\n",
    "| *Orders* | order_delivered_customer_date | Shows the actual order delivery date to the customer. |\n",
    "| *Orders* | order_estimated_delivery_date | Shows the estimated delivery date that was informed to customer at the purchase moment. |\n",
    "| --- | --- | --- |\n",
    "| *Payments* | payment_sequential | a customer may pay with more than one payment method. If so, a sequence will be created to accommodate all payments. |\n",
    "| *Payments* | payment_type | method of payment chosen by the customer. |\n",
    "| *Payments* | payment_installments | number of installments chosen by the customer. |\n",
    "| *Payments* | payment_value | transaction value. |\n",
    "| --- | --- | --- |\n",
    "| *Reviews* | review_id | unique review identifier |\n",
    "| *Reviews* | review_score | Note ranging from 1 to 5 given by the customer on a satisfaction survey. |\n",
    "| *Reviews* | review_comment_title | Comment title from the review left by the customer, in Portuguese. |\n",
    "| *Reviews* | review_comment_message | Comment message from the review left by the customer, in Portuguese. |\n",
    "| *Reviews* | review_creation_date | Shows the date in which the satisfaction survey was sent to the customer. |\n",
    "| *Reviews* | review_answer_timestamp | Shows satisfaction survey answer timestamp. |\n",
    "| --- | --- | --- |\n",
    "| *Items* | order_item_id | sequential number identifying number of items included in the same order. |\n",
    "| *Items* | product_id | product unique identifier |\n",
    "| *Items* | seller_id | seller unique identifier |\n",
    "| *Items* | shipping_limit_date | Shows the seller shipping limit date for handling the order over to the logistic partner. |\n",
    "| *Items* | price | item price |\n",
    "| *Items* | freight_value | item freight value item (if an order has more than one item the freight value is splitted between items) |\n",
    "| --- | --- | --- |\n",
    "| *Products* | product_category_name | root category of product, in Portuguese. |\n",
    "| *Products* | product_name_lenght | number of characters extracted from the product name. |\n",
    "| *Products* | product_description_lenght | number of characters extracted from the product description. |\n",
    "| *Products* | product_photos_qty | number of product published photos |\n",
    "| *Products* | product_weight_g | product weight measured in grams. |\n",
    "| *Products* | product_length_cm | product length measured in centimeters. |\n",
    "| *Products* | product_height_cm | product height measured in centimeters. |\n",
    "| *Products* | product_width_cm | product width measured in centimeters. |\n",
    "| --- | --- | --- |\n",
    "| *Customers* | customer_id | key to the orders dataset. Each order has a unique customer_id. |\n",
    "| *Customers* | customer_unique_id | unique identifier of a customer. |\n",
    "| *Customers* | customer_zip_code_prefix | first five digits of customer zip code |\n",
    "| *Customers* | customer_city | customer city name |\n",
    "| *Customers* | customer_state | customer state |\n",
    "| --- | --- | --- |\n",
    "| *Sellers* | seller_id | seller unique identifier |\n",
    "| *Sellers* | seller_zip_code_prefix | first 5 digits of seller zip code |\n",
    "| *Sellers* | seller_city | seller city name |\n",
    "| *Sellers* | seller_state | seller state |"
   ]
  },
  {
   "cell_type": "code",
   "execution_count": 118,
   "metadata": {},
   "outputs": [],
   "source": [
    "# libraries\n",
    "import numpy as np\n",
    "import pandas as pd\n",
    "import matplotlib as mpl\n",
    "import matplotlib.pyplot as plt\n",
    "import datetime as dt\n",
    "import statsmodels.api as sm\n",
    "from scipy import stats\n",
    "import seaborn as sns"
   ]
  },
  {
   "cell_type": "code",
   "execution_count": 119,
   "metadata": {},
   "outputs": [],
   "source": [
    "# pandas params\n",
    "pd.options.display.max_rows = 100\n",
    "\n",
    "# matplotlib params \n",
    "mpl.rcParams['font.family'] = \"sans-serif\"\n",
    "mpl.rcParams['font.sans-serif'] = \"Arial\"   \n",
    "mpl.rcParams['font.size'] = 12\n",
    "mpl.rcParams['axes.linewidth'] = 0.5\n",
    "mpl.rcParams['xtick.major.width'] = 0.5\n",
    "mpl.rcParams['ytick.major.width'] = 0.5\n",
    "\n",
    "# matplotlib adjustments\n",
    "def default_plot(ax, spines): \n",
    "    ax = plt.gca()\n",
    "    # Remove unnecessary axes and ticks (top and bottom)\n",
    "    ax.spines[\"top\"].set_visible(False)   \n",
    "    ax.spines[\"right\"].set_visible(False)\n",
    "    ax.get_xaxis().tick_bottom()  \n",
    "    ax.get_yaxis().tick_left()\n",
    "    \n",
    "    # Set the ticks facing OUTWARD\n",
    "    ax.get_yaxis().set_tick_params(direction='out')\n",
    "    ax.get_xaxis().set_tick_params(direction='out')\n",
    "    \n",
    "    # Remove grid\n",
    "    #ax.grid('off')\n",
    "    \n",
    "    for loc, spine in ax.spines.items():\n",
    "        if loc in spines:\n",
    "            spine.set_position(('outward', 10))  # outward by 10 points\n",
    "\n",
    "    # turn off ticks where there is no spine\n",
    "    if 'left' in spines:\n",
    "        ax.yaxis.set_ticks_position('left')\n",
    "        \n",
    "    if 'right' in spines:\n",
    "        ax.yaxis.set_ticks_position('right')\n",
    "\n",
    "    if 'bottom' in spines:\n",
    "        ax.xaxis.set_ticks_position('bottom')\n",
    "\n",
    "    return ax"
   ]
  },
  {
   "cell_type": "code",
   "execution_count": 120,
   "metadata": {},
   "outputs": [],
   "source": [
    "data_path = 'C:/Users/Zaca/Documents/Datasets/brazilian-ecommerce/olist_'"
   ]
  },
  {
   "cell_type": "code",
   "execution_count": 121,
   "metadata": {},
   "outputs": [],
   "source": [
    "# opening datasets individually (ignored customers and sellers)\n",
    "orders = pd.read_csv(data_path + 'orders_dataset.csv')\n",
    "items = pd.read_csv(data_path + 'order_items_dataset.csv')\n",
    "products = pd.read_csv(data_path + 'products_dataset.csv')\n",
    "payments = pd.read_csv(data_path + 'order_payments_dataset.csv')\n",
    "reviews = pd.read_csv(data_path + 'order_reviews_dataset.csv')\n",
    "customers = pd.read_csv(data_path + 'customers_dataset.csv')\n",
    "sellers = pd.read_csv(data_path + 'sellers_dataset.csv')\n",
    "\n",
    "data = {'orders': orders,\n",
    "        'items': items, \n",
    "        'products': products,\n",
    "        'payments': payments,\n",
    "        'reviews': reviews,\n",
    "        'customers': customers,\n",
    "        'sellers': sellers}"
   ]
  },
  {
   "cell_type": "markdown",
   "metadata": {},
   "source": [
    "## Data cleaning"
   ]
  },
  {
   "cell_type": "markdown",
   "metadata": {},
   "source": [
    "### Orders\n",
    "- This is the most important data set as its like a *linking table*, and is connected to a lot of other datatsets by *order_id*."
   ]
  },
  {
   "cell_type": "code",
   "execution_count": 122,
   "metadata": {},
   "outputs": [
    {
     "name": "stdout",
     "output_type": "stream",
     "text": [
      "Order cols:  ['order_id' 'customer_id' 'order_status' 'order_purchase_timestamp'\n",
      " 'order_approved_at' 'order_delivered_carrier_date'\n",
      " 'order_delivered_customer_date' 'order_estimated_delivery_date']\n"
     ]
    }
   ],
   "source": [
    "print('Order cols: ' , data['orders'].columns.values)\n",
    "\n",
    "# i've decided I'm not interested in order_approved, and order_delivered_carrier_date\n",
    "orders_drop_cols = ['order_approved_at', \n",
    "                    'order_delivered_carrier_date']\n",
    "\n",
    "data['orders'].drop(orders_drop_cols, axis= 1, inplace= True)"
   ]
  },
  {
   "cell_type": "code",
   "execution_count": 123,
   "metadata": {
    "scrolled": true
   },
   "outputs": [
    {
     "name": "stdout",
     "output_type": "stream",
     "text": [
      "delivered      96478\n",
      "shipped         1107\n",
      "canceled         625\n",
      "unavailable      609\n",
      "invoiced         314\n",
      "processing       301\n",
      "created            5\n",
      "approved           2\n",
      "Name: order_status, dtype: int64\n"
     ]
    }
   ],
   "source": [
    "# for the purpose of this analysis I'll be selecting only orders that have been in fact, delivered\n",
    "print(data['orders']['order_status'].value_counts())"
   ]
  },
  {
   "cell_type": "code",
   "execution_count": 124,
   "metadata": {
    "scrolled": true
   },
   "outputs": [
    {
     "name": "stdout",
     "output_type": "stream",
     "text": [
      "Taking only delivered orders we still get 97.02% of data.\n"
     ]
    }
   ],
   "source": [
    "print('Taking only delivered orders we still get ' + \n",
    "      str(round((data['orders'].order_status.value_counts()['delivered']/len(data['orders']))*100,2)) +\n",
    "      '% of data.')"
   ]
  },
  {
   "cell_type": "code",
   "execution_count": 125,
   "metadata": {},
   "outputs": [],
   "source": [
    "# first I will get all order_id where the order status was delivered\n",
    "delivered = data['orders']['order_id'][data['orders']['order_status'] != 'delivered'].values\n",
    "\n",
    "# now filter every other dataframe where order_id is a foreign key\n",
    "for key, value in data.items():\n",
    "    if 'order_id' in value.columns:\n",
    "        value.drop(value.loc[value['order_id'].isin(delivered)].index, inplace = True)\n"
   ]
  },
  {
   "cell_type": "code",
   "execution_count": 126,
   "metadata": {},
   "outputs": [
    {
     "name": "stdout",
     "output_type": "stream",
     "text": [
      "order_delivered_customer_date (%): 0.008292045855013579\n",
      "product_category_name (%): 1.8512336499650999\n",
      "product_name_lenght (%): 1.8512336499650999\n",
      "product_description_lenght (%): 1.8512336499650999\n",
      "product_photos_qty (%): 1.8512336499650999\n",
      "product_weight_g (%): 0.006069618524475737\n",
      "product_length_cm (%): 0.006069618524475737\n",
      "product_height_cm (%): 0.006069618524475737\n",
      "product_width_cm (%): 0.006069618524475737\n",
      "review_comment_title (%): 88.32654744111736\n",
      "review_comment_message (%): 59.023862289336705\n"
     ]
    }
   ],
   "source": [
    "# checking for nans in each dataset\n",
    "for key, value in data.items():\n",
    "    for col in value.columns:\n",
    "        # print only col names where there are nans\n",
    "        if value[col].isnull().sum():\n",
    "            print(col + ' (%): ' + str((sum(value[col].isnull())/len(value))*100))"
   ]
  },
  {
   "cell_type": "code",
   "execution_count": 127,
   "metadata": {},
   "outputs": [
    {
     "name": "stdout",
     "output_type": "stream",
     "text": [
      "There are only 8 orders that are missing delivery dates.\n"
     ]
    }
   ],
   "source": [
    "# let's deal first with orders nans\n",
    "# I've observed that these nans in the orders list are not really overlapping, and the only ones I really\n",
    "# care about are the delivered_customer_date.\n",
    "print('There are only ' + str(data['orders'].order_delivered_customer_date.isnull().sum()) + \n",
    "      ' orders that are missing delivery dates.')"
   ]
  },
  {
   "cell_type": "code",
   "execution_count": 128,
   "metadata": {},
   "outputs": [],
   "source": [
    "# we can drop them the same way as before\n",
    "# first I will get all order_id where the order status was delivered\n",
    "null_deliveries = data['orders']['order_id'][data['orders']['order_delivered_customer_date'].isnull()].values\n",
    "\n",
    "# now filter every other dataframe where order_id is a foreign key\n",
    "for key, value in data.items():\n",
    "    if 'order_id' in value.columns:\n",
    "        value.drop(value.loc[value['order_id'].isin(null_deliveries)].index, inplace = True)"
   ]
  },
  {
   "cell_type": "code",
   "execution_count": 129,
   "metadata": {},
   "outputs": [],
   "source": [
    "# there are 3 date columns in the orders dataset that I will transform to datetime and keep only the date\n",
    "# ignoring hours minutes and seconds\n",
    "data['orders'].order_purchase_timestamp = pd.to_datetime(data['orders'].order_purchase_timestamp).dt.date\n",
    "data['orders'].order_delivered_customer_date = pd.to_datetime(data['orders'].order_delivered_customer_date).dt.date\n",
    "data['orders'].order_estimated_delivery_date = pd.to_datetime(data['orders'].order_estimated_delivery_date).dt.date"
   ]
  },
  {
   "cell_type": "code",
   "execution_count": 130,
   "metadata": {},
   "outputs": [],
   "source": [
    "# I'm not particularly interested in the actual date of delivery, but more if it was delivered on time\n",
    "data['orders']['delivered_on_time'] = np.where(data['orders'].order_delivered_customer_date < data['orders'].order_estimated_delivery_date, 1, 0)"
   ]
  },
  {
   "cell_type": "markdown",
   "metadata": {},
   "source": [
    "### Reviews"
   ]
  },
  {
   "cell_type": "code",
   "execution_count": 131,
   "metadata": {},
   "outputs": [
    {
     "name": "stdout",
     "output_type": "stream",
     "text": [
      "Review cols:  ['review_id' 'order_id' 'review_score' 'review_comment_title'\n",
      " 'review_comment_message' 'review_creation_date' 'review_answer_timestamp']\n"
     ]
    }
   ],
   "source": [
    "print('Review cols: ' , data['reviews'].columns.values)\n",
    "\n",
    "# the review_comment_title column is 88% NaN so i'll just drop it. \n",
    "# TODO: nans for reviews just means there are none (?). \n",
    "# So maybe just assume that's all there is and use the data separately for a etxt analysis (in M3) ENDTODO\n",
    "\n",
    "# and when the review was sent to the customer\n",
    "review_drop_cols = ['review_comment_title']\n",
    "data['reviews'].drop(review_drop_cols, axis= 1, inplace= True)"
   ]
  },
  {
   "cell_type": "code",
   "execution_count": 132,
   "metadata": {},
   "outputs": [],
   "source": [
    "# for now I won't do any text analysis so I'm not super interested in the comment message\n",
    "# it looks like in this column there are nans if people did not leave a review\n",
    "# I don't want to drop the column, so I will just replace nan by 0 and the review by 1\n",
    "data['reviews']['review_comment_message'] = np.where(data['reviews']['review_comment_message'].isnull(), 0, 1)"
   ]
  },
  {
   "cell_type": "markdown",
   "metadata": {},
   "source": [
    "### Products"
   ]
  },
  {
   "cell_type": "code",
   "execution_count": 133,
   "metadata": {},
   "outputs": [
    {
     "name": "stdout",
     "output_type": "stream",
     "text": [
      "Product cols:  ['product_id' 'product_category_name' 'product_name_lenght'\n",
      " 'product_description_lenght' 'product_photos_qty' 'product_weight_g'\n",
      " 'product_length_cm' 'product_height_cm' 'product_width_cm']\n"
     ]
    }
   ],
   "source": [
    "print('Product cols: ' , data['products'].columns.values)\n",
    "\n",
    "# I've decided I'm not interested in the length of the name or the description of the product (too many nans)\n",
    "# also I can't think of anything to do with the size attributes of each product\n",
    "product_drop_cols = ['product_name_lenght', \n",
    "                     'product_description_lenght', \n",
    "                     'product_weight_g', \n",
    "                     'product_length_cm', \n",
    "                     'product_height_cm',\n",
    "                     'product_width_cm']\n",
    "\n",
    "data['products'].drop(product_drop_cols, axis= 1, inplace= True)"
   ]
  },
  {
   "cell_type": "code",
   "execution_count": 134,
   "metadata": {},
   "outputs": [],
   "source": [
    "# after looking at a gigantic list of categories for products \n",
    "# I think it's safe to assume that I can replace nans in these columns by 'other'\n",
    "data['products']['product_category_name'].fillna(value='outro', inplace=True)"
   ]
  },
  {
   "cell_type": "code",
   "execution_count": 135,
   "metadata": {},
   "outputs": [],
   "source": [
    "# there are no zeros in the photos_qty column, somehow I doubt there are NO products with zero photos\n",
    "# will fill nans with zero in this column\n",
    "data['products']['product_photos_qty'].fillna(value=0, inplace=True)"
   ]
  },
  {
   "cell_type": "markdown",
   "metadata": {},
   "source": [
    "## Data Analysis\n",
    "#### Which products makes more money?"
   ]
  },
  {
   "cell_type": "code",
   "execution_count": 196,
   "metadata": {},
   "outputs": [
    {
     "data": {
      "text/html": [
       "<div>\n",
       "<style scoped>\n",
       "    .dataframe tbody tr th:only-of-type {\n",
       "        vertical-align: middle;\n",
       "    }\n",
       "\n",
       "    .dataframe tbody tr th {\n",
       "        vertical-align: top;\n",
       "    }\n",
       "\n",
       "    .dataframe thead th {\n",
       "        text-align: right;\n",
       "    }\n",
       "</style>\n",
       "<table border=\"1\" class=\"dataframe\">\n",
       "  <thead>\n",
       "    <tr style=\"text-align: right;\">\n",
       "      <th></th>\n",
       "      <th>sell_probability</th>\n",
       "      <th>price</th>\n",
       "      <th>total</th>\n",
       "    </tr>\n",
       "    <tr>\n",
       "      <th>product_id</th>\n",
       "      <th></th>\n",
       "      <th></th>\n",
       "      <th></th>\n",
       "    </tr>\n",
       "  </thead>\n",
       "  <tbody>\n",
       "    <tr>\n",
       "      <td>00066f42aeeb9f3007548bb9d3f33c38</td>\n",
       "      <td>0.000031</td>\n",
       "      <td>101.65</td>\n",
       "      <td>101.65</td>\n",
       "    </tr>\n",
       "    <tr>\n",
       "      <td>00088930e925c41fd95ebfe695fd2655</td>\n",
       "      <td>0.000031</td>\n",
       "      <td>129.90</td>\n",
       "      <td>129.90</td>\n",
       "    </tr>\n",
       "    <tr>\n",
       "      <td>0009406fd7479715e4bef61dd91f2462</td>\n",
       "      <td>0.000031</td>\n",
       "      <td>229.00</td>\n",
       "      <td>229.00</td>\n",
       "    </tr>\n",
       "    <tr>\n",
       "      <td>000b8f95fcb9e0096488278317764d19</td>\n",
       "      <td>0.000062</td>\n",
       "      <td>58.90</td>\n",
       "      <td>117.80</td>\n",
       "    </tr>\n",
       "    <tr>\n",
       "      <td>000d9be29b5207b54e86aa1b1ac54872</td>\n",
       "      <td>0.000031</td>\n",
       "      <td>199.00</td>\n",
       "      <td>199.00</td>\n",
       "    </tr>\n",
       "    <tr>\n",
       "      <td>...</td>\n",
       "      <td>...</td>\n",
       "      <td>...</td>\n",
       "      <td>...</td>\n",
       "    </tr>\n",
       "    <tr>\n",
       "      <td>fff6177642830a9a94a0f2cba5e476d1</td>\n",
       "      <td>0.000062</td>\n",
       "      <td>114.99</td>\n",
       "      <td>229.98</td>\n",
       "    </tr>\n",
       "    <tr>\n",
       "      <td>fff81cc3158d2725c0655ab9ba0f712c</td>\n",
       "      <td>0.000031</td>\n",
       "      <td>90.00</td>\n",
       "      <td>90.00</td>\n",
       "    </tr>\n",
       "    <tr>\n",
       "      <td>fff9553ac224cec9d15d49f5a263411f</td>\n",
       "      <td>0.000031</td>\n",
       "      <td>32.00</td>\n",
       "      <td>32.00</td>\n",
       "    </tr>\n",
       "    <tr>\n",
       "      <td>fffdb2d0ec8d6a61f0a0a0db3f25b441</td>\n",
       "      <td>0.000155</td>\n",
       "      <td>33.99</td>\n",
       "      <td>169.95</td>\n",
       "    </tr>\n",
       "    <tr>\n",
       "      <td>fffe9eeff12fcbd74a2f2b007dde0c58</td>\n",
       "      <td>0.000031</td>\n",
       "      <td>249.99</td>\n",
       "      <td>249.99</td>\n",
       "    </tr>\n",
       "  </tbody>\n",
       "</table>\n",
       "<p>32214 rows × 3 columns</p>\n",
       "</div>"
      ],
      "text/plain": [
       "                                  sell_probability   price   total\n",
       "product_id                                                        \n",
       "00066f42aeeb9f3007548bb9d3f33c38          0.000031  101.65  101.65\n",
       "00088930e925c41fd95ebfe695fd2655          0.000031  129.90  129.90\n",
       "0009406fd7479715e4bef61dd91f2462          0.000031  229.00  229.00\n",
       "000b8f95fcb9e0096488278317764d19          0.000062   58.90  117.80\n",
       "000d9be29b5207b54e86aa1b1ac54872          0.000031  199.00  199.00\n",
       "...                                            ...     ...     ...\n",
       "fff6177642830a9a94a0f2cba5e476d1          0.000062  114.99  229.98\n",
       "fff81cc3158d2725c0655ab9ba0f712c          0.000031   90.00   90.00\n",
       "fff9553ac224cec9d15d49f5a263411f          0.000031   32.00   32.00\n",
       "fffdb2d0ec8d6a61f0a0a0db3f25b441          0.000155   33.99  169.95\n",
       "fffe9eeff12fcbd74a2f2b007dde0c58          0.000031  249.99  249.99\n",
       "\n",
       "[32214 rows x 3 columns]"
      ]
     },
     "execution_count": 196,
     "metadata": {},
     "output_type": "execute_result"
    }
   ],
   "source": [
    "# based on the schema, we merge the products dataset with the items dataset\n",
    "items_product = data['items'].merge(data['products'], on= 'product_id', how= 'inner')\n",
    "orders_ip = data['orders'].merge(items_product, on='order_id', how='inner')\n",
    "\n",
    "# pivot table aggregating by # of items bought and mean of price ('will be the same')\n",
    "product_revenue = orders_ip.pivot_table(index=['product_id'], aggfunc= {'order_item_id': 'sum', 'price':'mean'})\n",
    "product_revenue['total'] = product_revenue['order_item_id'] * product_revenue['price']\n",
    "product_revenue.rename(columns={'order_item_id':'sell_probability'}, inplace= True)\n",
    "product_revenue['sell_probability'] = product_revenue['sell_probability'] / len(product_revenue)"
   ]
  },
  {
   "cell_type": "markdown",
   "metadata": {},
   "source": [
    "#### Plotting product selling probability, price and revenue"
   ]
  },
  {
   "cell_type": "code",
   "execution_count": 169,
   "metadata": {},
   "outputs": [
    {
     "data": {
      "image/png": "[encoded data removed]",
      "text/plain": [
       "<Figure size 432x288 with 2 Axes>"
      ]
     },
     "metadata": {
      "needs_background": "light"
     },
     "output_type": "display_data"
    }
   ],
   "source": [
    "x = np.log(product_revenue.sell_probability)\n",
    "y = np.log(product_revenue.price)\n",
    "\n",
    "fig, ax = plt.subplots()\n",
    "ax = default_plot(ax, ['left', 'bottom'])\n",
    "\n",
    "plt.ylabel('Product Price (R$, log scale)')\n",
    "plt.xlabel('Sell Probability (log scale)')\n",
    "\n",
    "plt.xlim(-10, -3)\n",
    "plt.ylim(0, 9)\n",
    "\n",
    "plt.yticks(range(10), [int(np.exp(x)) for x in range(10)])\n",
    "plt.xticks(range(-10, -2), [round(np.exp(x), 4) for x in range(-10, -2)], rotation= 30)\n",
    "\n",
    "hb = ax.hexbin(x, y, gridsize=20, C=product_revenue.total);\n",
    "\n",
    "cb = fig.colorbar(hb, ax=ax)\n",
    "cb.set_label('Product Revenue (R$)', rotation=270, labelpad = 20)"
   ]
  },
  {
   "cell_type": "markdown",
   "metadata": {},
   "source": [
    "*We can say that the products that generate most revenue are mid-range items that are sold frequently.*"
   ]
  },
  {
   "cell_type": "markdown",
   "metadata": {},
   "source": [
    "## Timeseries\n",
    "#### Timeseries of orders"
   ]
  },
  {
   "cell_type": "code",
   "execution_count": 139,
   "metadata": {},
   "outputs": [
    {
     "name": "stdout",
     "output_type": "stream",
     "text": [
      "First registered order:  2016-09-15\n",
      "Last registered order:  2018-08-29\n"
     ]
    },
    {
     "data": {
      "image/png": "[encoded data removed]",
      "text/plain": [
       "<Figure size 432x288 with 1 Axes>"
      ]
     },
     "metadata": {
      "needs_background": "light"
     },
     "output_type": "display_data"
    }
   ],
   "source": [
    "# purchase_timestamp also has interesting information about the frequency of orders\n",
    "min_order_date = data['orders'].order_purchase_timestamp.min()\n",
    "max_order_date = data['orders'].order_purchase_timestamp.max()\n",
    "print('First registered order: ', min_order_date)\n",
    "print('Last registered order: ', max_order_date)\n",
    "\n",
    "# creating a list of days between the beggining of the dataset and the end.\n",
    "order_dates = [min_order_date + dt.timedelta(days= i) for i in range((max_order_date - min_order_date).days)]\n",
    "\n",
    "# I want to histogram the dates and then plot a line\n",
    "# but numpy histogram only works with numbers so we need to do the following\n",
    "to_timestamp = np.vectorize(lambda x: (x - dt.date(1970, 1, 1)).total_seconds())\n",
    "time_stamps = to_timestamp(data['orders'].order_purchase_timestamp)\n",
    "order_histogram = np.histogram(time_stamps, bins = len(order_dates))[0]\n",
    "\n",
    "# making timeseries plot of # orders made per day\n",
    "plt.subplots()\n",
    "ax = default_plot(ax, ['bottom', 'left'])\n",
    "ax.set_ylabel('# Orders')\n",
    "ax.set_xlabel('Date')\n",
    "plt.xticks(rotation= 30)\n",
    "ax.plot(order_dates, order_histogram, 'k');"
   ]
  },
  {
   "cell_type": "code",
   "execution_count": 140,
   "metadata": {},
   "outputs": [
    {
     "name": "stdout",
     "output_type": "stream",
     "text": [
      "Highest order date: 2017-11-24\n",
      "# of orders: 1147\n"
     ]
    }
   ],
   "source": [
    "# cool peak, let's check the date of when this happened\n",
    "dates_and_counts = list(zip(order_dates, order_histogram))\n",
    "print('Highest order date: ' + str(max(dates_and_counts, key=lambda x: x[1])[0]))\n",
    "print('# of orders: ' + str(max(dates_and_counts, key=lambda x: x[1])[1]))"
   ]
  },
  {
   "cell_type": "markdown",
   "metadata": {},
   "source": [
    "#### Seasonal analysis"
   ]
  },
  {
   "cell_type": "code",
   "execution_count": 191,
   "metadata": {
    "scrolled": true
   },
   "outputs": [
    {
     "data": {
      "image/png": "[encoded data removed]",
      "text/plain": [
       "<Figure size 432x288 with 1 Axes>"
      ]
     },
     "metadata": {
      "needs_background": "light"
     },
     "output_type": "display_data"
    }
   ],
   "source": [
    "# place data into DataFrame\n",
    "timeseries = pd.DataFrame(dates_and_counts, columns=['Date', 'Orders'])\n",
    "\n",
    "# convert date column into datetime... again.\n",
    "timeseries['Date'] = pd.to_datetime(timeseries['Date'])\n",
    "\n",
    "# set Date as index and drop it.\n",
    "timeseries.set_index('Date', drop=True, inplace=True)\n",
    "\n",
    "# run decomposition model\n",
    "decomposition = sm.tsa.seasonal_decompose(timeseries.resample('MS').mean(), model='additive')\n",
    "\n",
    "# plotting\n",
    "ax = default_plot(ax, ['bottom', 'left'])\n",
    "plt.plot(decomposition.trend, color= 'k', lw= 3);"
   ]
  },
  {
   "cell_type": "markdown",
   "metadata": {},
   "source": [
    "*the statsmodels seasonal decomposition returns 4 objects that are plotted here.*\n",
    "- **observed** - The data series that has been decomposed - *the rolling mean of the input data*\n",
    "- **seasonal** - The seasonal component of the data series - *seasonality, high on black friday, small bump again on jan/feb*\n",
    "- **trend** - The trend component of the data series - *it goes up, they have more and more customers over time*\n",
    "- **resid** - The residual component of the data series - *oops this doesn't look good*"
   ]
  },
  {
   "cell_type": "markdown",
   "metadata": {},
   "source": [
    "## Black Friday"
   ]
  },
  {
   "cell_type": "markdown",
   "metadata": {},
   "source": [
    "- *it seems that 24/11/2017 was [Black Friday](https://en.wikipedia.org/wiki/Black_Friday_(shopping)). it could be interesting (TODO) to see the average price of items bought that day agains the price of the same items any other day. also, there are two years so why only one peak? (TODO: compare the two different Black Fridays, is the avg same?) maybe there were no discounts in the other black friday (Friday, November 25)*\n",
    "\n",
    "- *Product sold on Black Friday VS general product. How common is normally to sell the products they sell during Black Friday?*"
   ]
  },
  {
   "cell_type": "code",
   "execution_count": 337,
   "metadata": {
    "scrolled": false
   },
   "outputs": [
    {
     "data": {
      "text/html": [
       "<div>\n",
       "<style scoped>\n",
       "    .dataframe tbody tr th:only-of-type {\n",
       "        vertical-align: middle;\n",
       "    }\n",
       "\n",
       "    .dataframe tbody tr th {\n",
       "        vertical-align: top;\n",
       "    }\n",
       "\n",
       "    .dataframe thead th {\n",
       "        text-align: right;\n",
       "    }\n",
       "</style>\n",
       "<table border=\"1\" class=\"dataframe\">\n",
       "  <thead>\n",
       "    <tr style=\"text-align: right;\">\n",
       "      <th></th>\n",
       "      <th>bf_rank</th>\n",
       "      <th>non_bf_rank</th>\n",
       "      <th>product_id</th>\n",
       "      <th>order_item_id_x</th>\n",
       "      <th>non_bf_probability</th>\n",
       "      <th>order_item_id_y</th>\n",
       "      <th>bf_probability</th>\n",
       "    </tr>\n",
       "  </thead>\n",
       "  <tbody>\n",
       "    <tr>\n",
       "      <td>0</td>\n",
       "      <td>0</td>\n",
       "      <td>41</td>\n",
       "      <td>9ecadb84c81da840dbf3564378b586e9</td>\n",
       "      <td>146</td>\n",
       "      <td>0.004558</td>\n",
       "      <td>41</td>\n",
       "      <td>0.045505</td>\n",
       "    </tr>\n",
       "    <tr>\n",
       "      <td>1</td>\n",
       "      <td>1</td>\n",
       "      <td>0</td>\n",
       "      <td>422879e10f46682990de24d770e7f83d</td>\n",
       "      <td>762</td>\n",
       "      <td>0.023789</td>\n",
       "      <td>31</td>\n",
       "      <td>0.034406</td>\n",
       "    </tr>\n",
       "    <tr>\n",
       "      <td>2</td>\n",
       "      <td>2</td>\n",
       "      <td>3</td>\n",
       "      <td>368c6c730842d78016ad823897a372db</td>\n",
       "      <td>522</td>\n",
       "      <td>0.016297</td>\n",
       "      <td>29</td>\n",
       "      <td>0.032186</td>\n",
       "    </tr>\n",
       "    <tr>\n",
       "      <td>3</td>\n",
       "      <td>3</td>\n",
       "      <td>2</td>\n",
       "      <td>53759a2ecddad2bb87a079a1f1519f73</td>\n",
       "      <td>524</td>\n",
       "      <td>0.016359</td>\n",
       "      <td>21</td>\n",
       "      <td>0.023307</td>\n",
       "    </tr>\n",
       "    <tr>\n",
       "      <td>4</td>\n",
       "      <td>4</td>\n",
       "      <td>5</td>\n",
       "      <td>389d119b48cf3043d311335e499d9c6b</td>\n",
       "      <td>516</td>\n",
       "      <td>0.016109</td>\n",
       "      <td>16</td>\n",
       "      <td>0.017758</td>\n",
       "    </tr>\n",
       "    <tr>\n",
       "      <td>5</td>\n",
       "      <td>5</td>\n",
       "      <td>4</td>\n",
       "      <td>99a4788cb24856965c36a24e339b6058</td>\n",
       "      <td>517</td>\n",
       "      <td>0.016141</td>\n",
       "      <td>14</td>\n",
       "      <td>0.015538</td>\n",
       "    </tr>\n",
       "    <tr>\n",
       "      <td>6</td>\n",
       "      <td>6</td>\n",
       "      <td>92</td>\n",
       "      <td>a19b6951c75da43aad691622dd2f6abe</td>\n",
       "      <td>95</td>\n",
       "      <td>0.002966</td>\n",
       "      <td>12</td>\n",
       "      <td>0.013319</td>\n",
       "    </tr>\n",
       "    <tr>\n",
       "      <td>7</td>\n",
       "      <td>7</td>\n",
       "      <td>8086</td>\n",
       "      <td>d7ceaa970defc5f52f1affda0dc32f30</td>\n",
       "      <td>3</td>\n",
       "      <td>0.000094</td>\n",
       "      <td>10</td>\n",
       "      <td>0.011099</td>\n",
       "    </tr>\n",
       "    <tr>\n",
       "      <td>8</td>\n",
       "      <td>8</td>\n",
       "      <td>1490</td>\n",
       "      <td>e2c3ed9aaddfd2312a6a5fe9b3ddadd3</td>\n",
       "      <td>15</td>\n",
       "      <td>0.000468</td>\n",
       "      <td>10</td>\n",
       "      <td>0.011099</td>\n",
       "    </tr>\n",
       "    <tr>\n",
       "      <td>9</td>\n",
       "      <td>9</td>\n",
       "      <td>37</td>\n",
       "      <td>0bcc3eeca39e1064258aa1e932269894</td>\n",
       "      <td>149</td>\n",
       "      <td>0.004652</td>\n",
       "      <td>10</td>\n",
       "      <td>0.011099</td>\n",
       "    </tr>\n",
       "    <tr>\n",
       "      <td>10</td>\n",
       "      <td>10</td>\n",
       "      <td>93</td>\n",
       "      <td>6c3effec7c8ddba466d4f03f982c7aa3</td>\n",
       "      <td>95</td>\n",
       "      <td>0.002966</td>\n",
       "      <td>8</td>\n",
       "      <td>0.008879</td>\n",
       "    </tr>\n",
       "    <tr>\n",
       "      <td>11</td>\n",
       "      <td>11</td>\n",
       "      <td>318</td>\n",
       "      <td>9ad75bd7267e5c724cb42c71ac56ca72</td>\n",
       "      <td>41</td>\n",
       "      <td>0.001280</td>\n",
       "      <td>8</td>\n",
       "      <td>0.008879</td>\n",
       "    </tr>\n",
       "    <tr>\n",
       "      <td>12</td>\n",
       "      <td>12</td>\n",
       "      <td>1014</td>\n",
       "      <td>9a29b754b7fc0aa8eeb990103fcea4fc</td>\n",
       "      <td>19</td>\n",
       "      <td>0.000593</td>\n",
       "      <td>7</td>\n",
       "      <td>0.007769</td>\n",
       "    </tr>\n",
       "    <tr>\n",
       "      <td>13</td>\n",
       "      <td>13</td>\n",
       "      <td>323</td>\n",
       "      <td>fe01b643060a6446e59f58e3021e66b3</td>\n",
       "      <td>40</td>\n",
       "      <td>0.001249</td>\n",
       "      <td>7</td>\n",
       "      <td>0.007769</td>\n",
       "    </tr>\n",
       "    <tr>\n",
       "      <td>14</td>\n",
       "      <td>14</td>\n",
       "      <td>343</td>\n",
       "      <td>ef66e63137bdd1b2e44aa968646fc1e3</td>\n",
       "      <td>39</td>\n",
       "      <td>0.001218</td>\n",
       "      <td>7</td>\n",
       "      <td>0.007769</td>\n",
       "    </tr>\n",
       "    <tr>\n",
       "      <td>15</td>\n",
       "      <td>15</td>\n",
       "      <td>48</td>\n",
       "      <td>2028bf1b01cafb2d2b1901fca4083222</td>\n",
       "      <td>132</td>\n",
       "      <td>0.004121</td>\n",
       "      <td>7</td>\n",
       "      <td>0.007769</td>\n",
       "    </tr>\n",
       "    <tr>\n",
       "      <td>16</td>\n",
       "      <td>16</td>\n",
       "      <td>6711</td>\n",
       "      <td>f09f6223e88af7f6de46dec6a437458b</td>\n",
       "      <td>4</td>\n",
       "      <td>0.000125</td>\n",
       "      <td>7</td>\n",
       "      <td>0.007769</td>\n",
       "    </tr>\n",
       "    <tr>\n",
       "      <td>17</td>\n",
       "      <td>17</td>\n",
       "      <td>1100</td>\n",
       "      <td>2548af3e6e77a690cf3eb6368e9ab61e</td>\n",
       "      <td>18</td>\n",
       "      <td>0.000562</td>\n",
       "      <td>7</td>\n",
       "      <td>0.007769</td>\n",
       "    </tr>\n",
       "    <tr>\n",
       "      <td>18</td>\n",
       "      <td>18</td>\n",
       "      <td>255</td>\n",
       "      <td>3e5201fe0d1ba474d9b90152c83c706c</td>\n",
       "      <td>48</td>\n",
       "      <td>0.001499</td>\n",
       "      <td>7</td>\n",
       "      <td>0.007769</td>\n",
       "    </tr>\n",
       "    <tr>\n",
       "      <td>19</td>\n",
       "      <td>19</td>\n",
       "      <td>2309</td>\n",
       "      <td>8e1446d14972eb9ba34dd6273315f419</td>\n",
       "      <td>10</td>\n",
       "      <td>0.000312</td>\n",
       "      <td>6</td>\n",
       "      <td>0.006659</td>\n",
       "    </tr>\n",
       "    <tr>\n",
       "      <td>20</td>\n",
       "      <td>20</td>\n",
       "      <td>103</td>\n",
       "      <td>ee0c1cf2fbeae95205b4aa506f1469f0</td>\n",
       "      <td>89</td>\n",
       "      <td>0.002779</td>\n",
       "      <td>6</td>\n",
       "      <td>0.006659</td>\n",
       "    </tr>\n",
       "    <tr>\n",
       "      <td>21</td>\n",
       "      <td>21</td>\n",
       "      <td>1512</td>\n",
       "      <td>3cce0d166c3fb2507956c630c1d0f87c</td>\n",
       "      <td>14</td>\n",
       "      <td>0.000437</td>\n",
       "      <td>6</td>\n",
       "      <td>0.006659</td>\n",
       "    </tr>\n",
       "    <tr>\n",
       "      <td>22</td>\n",
       "      <td>22</td>\n",
       "      <td>1593</td>\n",
       "      <td>4fb3e6ce442ce9c621ea9509e47ac951</td>\n",
       "      <td>14</td>\n",
       "      <td>0.000437</td>\n",
       "      <td>6</td>\n",
       "      <td>0.006659</td>\n",
       "    </tr>\n",
       "    <tr>\n",
       "      <td>23</td>\n",
       "      <td>23</td>\n",
       "      <td>29685</td>\n",
       "      <td>662276c22ed1b925786d19da6677e19d</td>\n",
       "      <td>1</td>\n",
       "      <td>0.000031</td>\n",
       "      <td>6</td>\n",
       "      <td>0.006659</td>\n",
       "    </tr>\n",
       "    <tr>\n",
       "      <td>24</td>\n",
       "      <td>24</td>\n",
       "      <td>62</td>\n",
       "      <td>4c2394abfbac7ff59ec7a420918562fa</td>\n",
       "      <td>117</td>\n",
       "      <td>0.003653</td>\n",
       "      <td>6</td>\n",
       "      <td>0.006659</td>\n",
       "    </tr>\n",
       "    <tr>\n",
       "      <td>25</td>\n",
       "      <td>25</td>\n",
       "      <td>388</td>\n",
       "      <td>2083a6feb4bbb31f6abc92fc24e468c0</td>\n",
       "      <td>35</td>\n",
       "      <td>0.001093</td>\n",
       "      <td>6</td>\n",
       "      <td>0.006659</td>\n",
       "    </tr>\n",
       "    <tr>\n",
       "      <td>26</td>\n",
       "      <td>26</td>\n",
       "      <td>2840</td>\n",
       "      <td>056d012d264624accb7f73d31caee034</td>\n",
       "      <td>9</td>\n",
       "      <td>0.000281</td>\n",
       "      <td>6</td>\n",
       "      <td>0.006659</td>\n",
       "    </tr>\n",
       "    <tr>\n",
       "      <td>27</td>\n",
       "      <td>27</td>\n",
       "      <td>239</td>\n",
       "      <td>f646af315b0f3a597f69213537ca2199</td>\n",
       "      <td>49</td>\n",
       "      <td>0.001530</td>\n",
       "      <td>6</td>\n",
       "      <td>0.006659</td>\n",
       "    </tr>\n",
       "    <tr>\n",
       "      <td>28</td>\n",
       "      <td>28</td>\n",
       "      <td>12873</td>\n",
       "      <td>3120b244fb6ccbf5e91a53148ea1bd88</td>\n",
       "      <td>2</td>\n",
       "      <td>0.000062</td>\n",
       "      <td>6</td>\n",
       "      <td>0.006659</td>\n",
       "    </tr>\n",
       "    <tr>\n",
       "      <td>29</td>\n",
       "      <td>29</td>\n",
       "      <td>297</td>\n",
       "      <td>9bb8ca338e5588c361e34eae02e8fad6</td>\n",
       "      <td>43</td>\n",
       "      <td>0.001342</td>\n",
       "      <td>6</td>\n",
       "      <td>0.006659</td>\n",
       "    </tr>\n",
       "    <tr>\n",
       "      <td>30</td>\n",
       "      <td>30</td>\n",
       "      <td>23</td>\n",
       "      <td>e0d64dcfaa3b6db5c54ca298ae101d05</td>\n",
       "      <td>191</td>\n",
       "      <td>0.005963</td>\n",
       "      <td>6</td>\n",
       "      <td>0.006659</td>\n",
       "    </tr>\n",
       "    <tr>\n",
       "      <td>31</td>\n",
       "      <td>31</td>\n",
       "      <td>12</td>\n",
       "      <td>2b4609f8948be18874494203496bc318</td>\n",
       "      <td>251</td>\n",
       "      <td>0.007836</td>\n",
       "      <td>6</td>\n",
       "      <td>0.006659</td>\n",
       "    </tr>\n",
       "    <tr>\n",
       "      <td>32</td>\n",
       "      <td>32</td>\n",
       "      <td>1169</td>\n",
       "      <td>ffaf0af7eebb57c7f262b51ebb05dfd6</td>\n",
       "      <td>17</td>\n",
       "      <td>0.000531</td>\n",
       "      <td>6</td>\n",
       "      <td>0.006659</td>\n",
       "    </tr>\n",
       "    <tr>\n",
       "      <td>33</td>\n",
       "      <td>33</td>\n",
       "      <td>36</td>\n",
       "      <td>6cdd53843498f92890544667809f1595</td>\n",
       "      <td>155</td>\n",
       "      <td>0.004839</td>\n",
       "      <td>6</td>\n",
       "      <td>0.006659</td>\n",
       "    </tr>\n",
       "    <tr>\n",
       "      <td>34</td>\n",
       "      <td>34</td>\n",
       "      <td>2747</td>\n",
       "      <td>592962829d5a715304344e656e39108a</td>\n",
       "      <td>9</td>\n",
       "      <td>0.000281</td>\n",
       "      <td>5</td>\n",
       "      <td>0.005549</td>\n",
       "    </tr>\n",
       "    <tr>\n",
       "      <td>35</td>\n",
       "      <td>35</td>\n",
       "      <td>8</td>\n",
       "      <td>d1c427060a0f73f6b889a5c7c61f2ac4</td>\n",
       "      <td>352</td>\n",
       "      <td>0.010989</td>\n",
       "      <td>5</td>\n",
       "      <td>0.005549</td>\n",
       "    </tr>\n",
       "    <tr>\n",
       "      <td>36</td>\n",
       "      <td>36</td>\n",
       "      <td>442</td>\n",
       "      <td>283dc451ad3918badb976d56ff887289</td>\n",
       "      <td>33</td>\n",
       "      <td>0.001030</td>\n",
       "      <td>5</td>\n",
       "      <td>0.005549</td>\n",
       "    </tr>\n",
       "    <tr>\n",
       "      <td>37</td>\n",
       "      <td>37</td>\n",
       "      <td>3309</td>\n",
       "      <td>4f88323d03ffaf090b8fb0116b33c95e</td>\n",
       "      <td>7</td>\n",
       "      <td>0.000219</td>\n",
       "      <td>5</td>\n",
       "      <td>0.005549</td>\n",
       "    </tr>\n",
       "    <tr>\n",
       "      <td>38</td>\n",
       "      <td>38</td>\n",
       "      <td>1578</td>\n",
       "      <td>31c1d1dfbb4b2730140b8bd9248bcd58</td>\n",
       "      <td>14</td>\n",
       "      <td>0.000437</td>\n",
       "      <td>5</td>\n",
       "      <td>0.005549</td>\n",
       "    </tr>\n",
       "    <tr>\n",
       "      <td>39</td>\n",
       "      <td>39</td>\n",
       "      <td>40</td>\n",
       "      <td>0aabfb375647d9738ad0f7b4ea3653b1</td>\n",
       "      <td>148</td>\n",
       "      <td>0.004621</td>\n",
       "      <td>5</td>\n",
       "      <td>0.005549</td>\n",
       "    </tr>\n",
       "    <tr>\n",
       "      <td>40</td>\n",
       "      <td>40</td>\n",
       "      <td>1444</td>\n",
       "      <td>cad2db5e318d7283a234c517b2f28a42</td>\n",
       "      <td>15</td>\n",
       "      <td>0.000468</td>\n",
       "      <td>5</td>\n",
       "      <td>0.005549</td>\n",
       "    </tr>\n",
       "    <tr>\n",
       "      <td>41</td>\n",
       "      <td>41</td>\n",
       "      <td>234</td>\n",
       "      <td>f71f42e2381752836563b70beb542f80</td>\n",
       "      <td>50</td>\n",
       "      <td>0.001561</td>\n",
       "      <td>5</td>\n",
       "      <td>0.005549</td>\n",
       "    </tr>\n",
       "    <tr>\n",
       "      <td>42</td>\n",
       "      <td>42</td>\n",
       "      <td>11226</td>\n",
       "      <td>887dba291adc295b57b5778ebc8b4060</td>\n",
       "      <td>2</td>\n",
       "      <td>0.000062</td>\n",
       "      <td>5</td>\n",
       "      <td>0.005549</td>\n",
       "    </tr>\n",
       "    <tr>\n",
       "      <td>43</td>\n",
       "      <td>43</td>\n",
       "      <td>858</td>\n",
       "      <td>f9259c9e7c0f12c70f7a81409680a5ff</td>\n",
       "      <td>21</td>\n",
       "      <td>0.000656</td>\n",
       "      <td>5</td>\n",
       "      <td>0.005549</td>\n",
       "    </tr>\n",
       "    <tr>\n",
       "      <td>44</td>\n",
       "      <td>44</td>\n",
       "      <td>1246</td>\n",
       "      <td>655110abedc57d73d3b2150d8ba2092a</td>\n",
       "      <td>16</td>\n",
       "      <td>0.000500</td>\n",
       "      <td>5</td>\n",
       "      <td>0.005549</td>\n",
       "    </tr>\n",
       "    <tr>\n",
       "      <td>45</td>\n",
       "      <td>45</td>\n",
       "      <td>46</td>\n",
       "      <td>d017a2151d543a9885604dc62a3d9dcc</td>\n",
       "      <td>139</td>\n",
       "      <td>0.004340</td>\n",
       "      <td>4</td>\n",
       "      <td>0.004440</td>\n",
       "    </tr>\n",
       "    <tr>\n",
       "      <td>46</td>\n",
       "      <td>46</td>\n",
       "      <td>85</td>\n",
       "      <td>c7fd13b5e515bffdab855d0812842edb</td>\n",
       "      <td>99</td>\n",
       "      <td>0.003091</td>\n",
       "      <td>4</td>\n",
       "      <td>0.004440</td>\n",
       "    </tr>\n",
       "    <tr>\n",
       "      <td>47</td>\n",
       "      <td>47</td>\n",
       "      <td>87</td>\n",
       "      <td>4fcb3d9a5f4871e8362dfedbdb02b064</td>\n",
       "      <td>97</td>\n",
       "      <td>0.003028</td>\n",
       "      <td>4</td>\n",
       "      <td>0.004440</td>\n",
       "    </tr>\n",
       "    <tr>\n",
       "      <td>48</td>\n",
       "      <td>48</td>\n",
       "      <td>22</td>\n",
       "      <td>35afc973633aaeb6b877ff57b2793310</td>\n",
       "      <td>191</td>\n",
       "      <td>0.005963</td>\n",
       "      <td>4</td>\n",
       "      <td>0.004440</td>\n",
       "    </tr>\n",
       "    <tr>\n",
       "      <td>49</td>\n",
       "      <td>49</td>\n",
       "      <td>4532</td>\n",
       "      <td>b141c668aca84c5877a5c66bd94fedc8</td>\n",
       "      <td>6</td>\n",
       "      <td>0.000187</td>\n",
       "      <td>4</td>\n",
       "      <td>0.004440</td>\n",
       "    </tr>\n",
       "  </tbody>\n",
       "</table>\n",
       "</div>"
      ],
      "text/plain": [
       "    bf_rank  non_bf_rank                        product_id  order_item_id_x  \\\n",
       "0         0           41  9ecadb84c81da840dbf3564378b586e9              146   \n",
       "1         1            0  422879e10f46682990de24d770e7f83d              762   \n",
       "2         2            3  368c6c730842d78016ad823897a372db              522   \n",
       "3         3            2  53759a2ecddad2bb87a079a1f1519f73              524   \n",
       "4         4            5  389d119b48cf3043d311335e499d9c6b              516   \n",
       "5         5            4  99a4788cb24856965c36a24e339b6058              517   \n",
       "6         6           92  a19b6951c75da43aad691622dd2f6abe               95   \n",
       "7         7         8086  d7ceaa970defc5f52f1affda0dc32f30                3   \n",
       "8         8         1490  e2c3ed9aaddfd2312a6a5fe9b3ddadd3               15   \n",
       "9         9           37  0bcc3eeca39e1064258aa1e932269894              149   \n",
       "10       10           93  6c3effec7c8ddba466d4f03f982c7aa3               95   \n",
       "11       11          318  9ad75bd7267e5c724cb42c71ac56ca72               41   \n",
       "12       12         1014  9a29b754b7fc0aa8eeb990103fcea4fc               19   \n",
       "13       13          323  fe01b643060a6446e59f58e3021e66b3               40   \n",
       "14       14          343  ef66e63137bdd1b2e44aa968646fc1e3               39   \n",
       "15       15           48  2028bf1b01cafb2d2b1901fca4083222              132   \n",
       "16       16         6711  f09f6223e88af7f6de46dec6a437458b                4   \n",
       "17       17         1100  2548af3e6e77a690cf3eb6368e9ab61e               18   \n",
       "18       18          255  3e5201fe0d1ba474d9b90152c83c706c               48   \n",
       "19       19         2309  8e1446d14972eb9ba34dd6273315f419               10   \n",
       "20       20          103  ee0c1cf2fbeae95205b4aa506f1469f0               89   \n",
       "21       21         1512  3cce0d166c3fb2507956c630c1d0f87c               14   \n",
       "22       22         1593  4fb3e6ce442ce9c621ea9509e47ac951               14   \n",
       "23       23        29685  662276c22ed1b925786d19da6677e19d                1   \n",
       "24       24           62  4c2394abfbac7ff59ec7a420918562fa              117   \n",
       "25       25          388  2083a6feb4bbb31f6abc92fc24e468c0               35   \n",
       "26       26         2840  056d012d264624accb7f73d31caee034                9   \n",
       "27       27          239  f646af315b0f3a597f69213537ca2199               49   \n",
       "28       28        12873  3120b244fb6ccbf5e91a53148ea1bd88                2   \n",
       "29       29          297  9bb8ca338e5588c361e34eae02e8fad6               43   \n",
       "30       30           23  e0d64dcfaa3b6db5c54ca298ae101d05              191   \n",
       "31       31           12  2b4609f8948be18874494203496bc318              251   \n",
       "32       32         1169  ffaf0af7eebb57c7f262b51ebb05dfd6               17   \n",
       "33       33           36  6cdd53843498f92890544667809f1595              155   \n",
       "34       34         2747  592962829d5a715304344e656e39108a                9   \n",
       "35       35            8  d1c427060a0f73f6b889a5c7c61f2ac4              352   \n",
       "36       36          442  283dc451ad3918badb976d56ff887289               33   \n",
       "37       37         3309  4f88323d03ffaf090b8fb0116b33c95e                7   \n",
       "38       38         1578  31c1d1dfbb4b2730140b8bd9248bcd58               14   \n",
       "39       39           40  0aabfb375647d9738ad0f7b4ea3653b1              148   \n",
       "40       40         1444  cad2db5e318d7283a234c517b2f28a42               15   \n",
       "41       41          234  f71f42e2381752836563b70beb542f80               50   \n",
       "42       42        11226  887dba291adc295b57b5778ebc8b4060                2   \n",
       "43       43          858  f9259c9e7c0f12c70f7a81409680a5ff               21   \n",
       "44       44         1246  655110abedc57d73d3b2150d8ba2092a               16   \n",
       "45       45           46  d017a2151d543a9885604dc62a3d9dcc              139   \n",
       "46       46           85  c7fd13b5e515bffdab855d0812842edb               99   \n",
       "47       47           87  4fcb3d9a5f4871e8362dfedbdb02b064               97   \n",
       "48       48           22  35afc973633aaeb6b877ff57b2793310              191   \n",
       "49       49         4532  b141c668aca84c5877a5c66bd94fedc8                6   \n",
       "\n",
       "    non_bf_probability  order_item_id_y  bf_probability  \n",
       "0             0.004558               41        0.045505  \n",
       "1             0.023789               31        0.034406  \n",
       "2             0.016297               29        0.032186  \n",
       "3             0.016359               21        0.023307  \n",
       "4             0.016109               16        0.017758  \n",
       "5             0.016141               14        0.015538  \n",
       "6             0.002966               12        0.013319  \n",
       "7             0.000094               10        0.011099  \n",
       "8             0.000468               10        0.011099  \n",
       "9             0.004652               10        0.011099  \n",
       "10            0.002966                8        0.008879  \n",
       "11            0.001280                8        0.008879  \n",
       "12            0.000593                7        0.007769  \n",
       "13            0.001249                7        0.007769  \n",
       "14            0.001218                7        0.007769  \n",
       "15            0.004121                7        0.007769  \n",
       "16            0.000125                7        0.007769  \n",
       "17            0.000562                7        0.007769  \n",
       "18            0.001499                7        0.007769  \n",
       "19            0.000312                6        0.006659  \n",
       "20            0.002779                6        0.006659  \n",
       "21            0.000437                6        0.006659  \n",
       "22            0.000437                6        0.006659  \n",
       "23            0.000031                6        0.006659  \n",
       "24            0.003653                6        0.006659  \n",
       "25            0.001093                6        0.006659  \n",
       "26            0.000281                6        0.006659  \n",
       "27            0.001530                6        0.006659  \n",
       "28            0.000062                6        0.006659  \n",
       "29            0.001342                6        0.006659  \n",
       "30            0.005963                6        0.006659  \n",
       "31            0.007836                6        0.006659  \n",
       "32            0.000531                6        0.006659  \n",
       "33            0.004839                6        0.006659  \n",
       "34            0.000281                5        0.005549  \n",
       "35            0.010989                5        0.005549  \n",
       "36            0.001030                5        0.005549  \n",
       "37            0.000219                5        0.005549  \n",
       "38            0.000437                5        0.005549  \n",
       "39            0.004621                5        0.005549  \n",
       "40            0.000468                5        0.005549  \n",
       "41            0.001561                5        0.005549  \n",
       "42            0.000062                5        0.005549  \n",
       "43            0.000656                5        0.005549  \n",
       "44            0.000500                5        0.005549  \n",
       "45            0.004340                4        0.004440  \n",
       "46            0.003091                4        0.004440  \n",
       "47            0.003028                4        0.004440  \n",
       "48            0.005963                4        0.004440  \n",
       "49            0.000187                4        0.004440  "
      ]
     },
     "execution_count": 337,
     "metadata": {},
     "output_type": "execute_result"
    }
   ],
   "source": [
    "# store the black friday dates\n",
    "black_friday_2016 = dt.date(2016, 11, 25)\n",
    "black_friday_2017 = dt.date(2017, 11, 24)\n",
    "\n",
    "# filter order_id by black friday date\n",
    "bf_orders = data['orders'][data['orders']['order_purchase_timestamp'] == black_friday_2017]['order_id'].values\n",
    "non_bf_orders = data['orders'][data['orders']['order_purchase_timestamp'] != black_friday_2017]['order_id'].values\n",
    "\n",
    "# use order_id to get products sold on bf and products sold outside of black friday\n",
    "bf_products = items_product[items_product['order_id'].isin(bf_orders)]\n",
    "non_bf_products = items_product[items_product['order_id'].isin(non_bf_orders)]\n",
    "\n",
    "# calculate probabilities\n",
    "bf_products_prob = bf_products.pivot_table(index=['product_id'], aggfunc= {'order_item_id': 'sum'})\n",
    "bf_products_prob['bf_probability'] = bf_products_prob['order_item_id'] / len(bf_products_prob)\n",
    "\n",
    "# calculate ranking of items sold when not black friday\n",
    "non_bf_products_prob = non_bf_products.pivot_table(index=['product_id'], aggfunc= {'order_item_id': 'sum'})\n",
    "non_bf_products_prob['non_bf_probability'] = non_bf_products_prob['order_item_id'] / len(non_bf_products_prob)\n",
    "non_bf_products_prob = non_bf_products_prob.sort_values(by='non_bf_probability', ascending= False).reset_index(drop=False).reset_index()\n",
    "non_bf_products_prob.rename(columns= {'index': 'non_bf_rank'}, inplace=True)\n",
    "\n",
    "\n",
    "# merge two probabilities\n",
    "bf_vs_non = non_bf_products_prob.merge(bf_products_prob, on='product_id', how= 'inner')\n",
    "bf_vs_non = bf_vs_non.sort_values(by='bf_probability', ascending= False).reset_index(drop=True).reset_index()\n",
    "bf_vs_non.rename(columns= {'index': 'bf_rank'}, inplace=True)\n",
    "bf_vs_non[:50]"
   ]
  },
  {
   "cell_type": "code",
   "execution_count": 343,
   "metadata": {},
   "outputs": [
    {
     "data": {
      "image/png": "[encoded data removed]",
      "text/plain": [
       "<Figure size 432x288 with 2 Axes>"
      ]
     },
     "metadata": {
      "needs_background": "light"
     },
     "output_type": "display_data"
    }
   ],
   "source": [
    "y = bf_vs_non['bf_probability'][:50] - bf_vs_non['non_bf_probability'][:50]\n",
    "x = np.random.normal(1, 0.05, len(y))\n",
    "\n",
    "fig, ax = plt.subplots()\n",
    "sc = plt.scatter(x, y, alpha= 0.75, c=bf_vs_non['non_bf_probability'][:50], s= 100);\n",
    "ax = default_plot(ax, 'left')\n",
    "plt.hlines(0, min(x), max(x), ls='dashed')\n",
    "\n",
    "cb = fig.colorbar(sc, ax=ax)\n",
    "cb.set_label('Global Probability', rotation=270, labelpad = 20)\n"
   ]
  },
  {
   "cell_type": "code",
   "execution_count": 443,
   "metadata": {},
   "outputs": [
    {
     "data": {
      "image/png": "[encoded data removed]",
      "text/plain": [
       "<Figure size 432x288 with 1 Axes>"
      ]
     },
     "metadata": {
      "needs_background": "light"
     },
     "output_type": "display_data"
    }
   ],
   "source": [
    "global_top = non_bf_products_prob['non_bf_probability'].sort_values(ascending=False).values[:50]\n",
    "bf_top = bf_vs_non['non_bf_probability'].sort_values(ascending=False).values[:50]\n",
    "\n",
    "random_orders = data['orders']['order_id'].sample(1200)\n",
    "random_products = items_product[items_product['order_id'].isin(random_orders)]\n",
    "\n",
    "random_products_prob = random_products.pivot_table(index=['product_id'], aggfunc= {'order_item_id': 'sum'})\n",
    "rand_product_id = random_products_prob.sort_values(by='order_item_id', ascending=False).index[:50]\n",
    "random_top = product_revenue[product_revenue.index.isin(rand_product_id)]['sell_probability']\n",
    "random_top\n",
    "\n",
    "plt.boxplot([global_top, bf_top, random_top], showfliers= False);"
   ]
  },
  {
   "cell_type": "markdown",
   "metadata": {},
   "source": [
    "### Customers\n",
    "- Every order assigns a new customer ID even if it is a return customer.\n",
    "- The unique customer ID can be found on the customers dataset"
   ]
  },
  {
   "cell_type": "code",
   "execution_count": 178,
   "metadata": {},
   "outputs": [],
   "source": [
    "# merge customers dataset with orders and payments dataset.\n",
    "pay_ord_cust = orders.merge(payments, on='order_id', how='outer').merge(customers, on='customer_id', how='outer')\n",
    "customer_spent = pay_ord_cust.groupby('customer_unique_id').agg({'payment_value': 'sum'}).sort_values(by='payment_value', ascending=False)\n",
    "\n",
    "# calculating mean customer spent and standard deviation\n",
    "customer_mean = customer_spent['payment_value'].mean()\n",
    "customer_std = customer_spent['payment_value'].std()\n",
    "\n"
   ]
  },
  {
   "cell_type": "markdown",
   "metadata": {},
   "source": [
    "### Orders\n",
    "#### Delivered on time?"
   ]
  },
  {
   "cell_type": "code",
   "execution_count": 145,
   "metadata": {},
   "outputs": [
    {
     "data": {
      "image/png": "[encoded data removed]",
      "text/plain": [
       "<Figure size 432x288 with 1 Axes>"
      ]
     },
     "metadata": {},
     "output_type": "display_data"
    }
   ],
   "source": [
    "# let's see the proportion of deliveries that arrive before the estimated date.\n",
    "fig, ax = plt.subplots()\n",
    "plt.title('Orders Delivered')\n",
    "labels = 'On time', 'Delayed'\n",
    "prob_on_time = data['orders'].delivered_on_time.sum()/len(data['orders'].delivered_on_time)\n",
    "sizes = [prob_on_time, 1 - prob_on_time]\n",
    "explode = (0, 0.12)\n",
    "ax.pie(sizes, explode, labels, autopct='%1.1f%%');"
   ]
  },
  {
   "cell_type": "markdown",
   "metadata": {},
   "source": [
    "### Payments"
   ]
  },
  {
   "cell_type": "code",
   "execution_count": 146,
   "metadata": {},
   "outputs": [
    {
     "name": "stdout",
     "output_type": "stream",
     "text": [
      "Index(['order_id', 'payment_sequential', 'payment_type',\n",
      "       'payment_installments', 'payment_value'],\n",
      "      dtype='object')\n"
     ]
    }
   ],
   "source": [
    "print(data['payments'].columns)"
   ]
  },
  {
   "cell_type": "code",
   "execution_count": 147,
   "metadata": {
    "scrolled": true
   },
   "outputs": [
    {
     "data": {
      "image/png": "[encoded data removed]",
      "text/plain": [
       "<Figure size 432x288 with 1 Axes>"
      ]
     },
     "metadata": {},
     "output_type": "display_data"
    }
   ],
   "source": [
    "# let's see the proportion of payments by payment type\n",
    "payment_types = data['payments'].payment_type.value_counts()\n",
    "\n",
    "# show a pie plot\n",
    "fig, ax = plt.subplots()\n",
    "plt.title('Payment Type')\n",
    "labels = [x.replace('_', ' ').capitalize() for x in payment_types.index]\n",
    "sizes = payment_types.values\n",
    "ax.pie(x= sizes, labels=labels);"
   ]
  },
  {
   "cell_type": "markdown",
   "metadata": {},
   "source": [
    "*one idea I have with the payments dataset is the relationship between the number of installments and the price of the order, maybe there's some form os probability distribution that we can model?*"
   ]
  },
  {
   "cell_type": "markdown",
   "metadata": {},
   "source": [
    "### Reviews"
   ]
  },
  {
   "cell_type": "code",
   "execution_count": 148,
   "metadata": {},
   "outputs": [
    {
     "data": {
      "text/plain": [
       "(array([ 9753.,  3015.,  8056., 19040., 57143.]),\n",
       " array([1, 2, 3, 4, 5, 6]),\n",
       " <a list of 5 Patch objects>)"
      ]
     },
     "execution_count": 148,
     "metadata": {},
     "output_type": "execute_result"
    },
    {
     "data": {
      "image/png": "[encoded data removed]",
      "text/plain": [
       "<Figure size 432x288 with 1 Axes>"
      ]
     },
     "metadata": {
      "needs_background": "light"
     },
     "output_type": "display_data"
    }
   ],
   "source": [
    "# first thing we might look at is the distribution of review scores\n",
    "plt.xticks([x + 0.5 for x in range(1, 7)], range(1, 7))\n",
    "plt.hist(data['reviews'].review_score, bins= range(1, 7), rwidth=0.95)"
   ]
  },
  {
   "cell_type": "markdown",
   "metadata": {},
   "source": [
    "- TODO: bag of words and word cloud on most used words\n",
    "- oops I dropped the comment column!"
   ]
  },
  {
   "cell_type": "markdown",
   "metadata": {},
   "source": [
    "### Items"
   ]
  },
  {
   "cell_type": "code",
   "execution_count": 149,
   "metadata": {
    "scrolled": true
   },
   "outputs": [
    {
     "data": {
      "image/png": "[encoded data removed]",
      "text/plain": [
       "<Figure size 432x288 with 1 Axes>"
      ]
     },
     "metadata": {
      "needs_background": "light"
     },
     "output_type": "display_data"
    }
   ],
   "source": [
    "# let's see the distribution of item prices? why not.\n",
    "plt.hist(data['items'].price, bins=50, range=(0, 1000));"
   ]
  },
  {
   "cell_type": "markdown",
   "metadata": {},
   "source": [
    "### Products"
   ]
  },
  {
   "cell_type": "code",
   "execution_count": 150,
   "metadata": {},
   "outputs": [
    {
     "name": "stdout",
     "output_type": "stream",
     "text": [
      "Index(['product_id', 'product_category_name', 'product_photos_qty'], dtype='object')\n"
     ]
    }
   ],
   "source": [
    "print(data['products'].columns)"
   ]
  },
  {
   "cell_type": "code",
   "execution_count": 151,
   "metadata": {},
   "outputs": [
    {
     "data": {
      "image/png": "[encoded data removed]",
      "text/plain": [
       "<Figure size 432x288 with 1 Axes>"
      ]
     },
     "metadata": {
      "needs_background": "light"
     },
     "output_type": "display_data"
    }
   ],
   "source": [
    "# histogram of number of photos in a product listing\n",
    "plt.hist(data['products'].product_photos_qty, bins= 20);"
   ]
  },
  {
   "cell_type": "code",
   "execution_count": 152,
   "metadata": {},
   "outputs": [],
   "source": [
    "# let's look at product categories\n",
    "product_categories = data['products'].groupby('product_category_name').agg({'product_id':'count'}).sort_values(by='product_id', ascending=False)"
   ]
  },
  {
   "cell_type": "code",
   "execution_count": 153,
   "metadata": {},
   "outputs": [
    {
     "data": {
      "text/plain": [
       "([], <a list of 0 Text xticklabel objects>)"
      ]
     },
     "execution_count": 153,
     "metadata": {},
     "output_type": "execute_result"
    },
    {
     "data": {
      "image/png": "[encoded data removed]",
      "text/plain": [
       "<Figure size 432x288 with 1 Axes>"
      ]
     },
     "metadata": {
      "needs_background": "light"
     },
     "output_type": "display_data"
    }
   ],
   "source": [
    "plt.bar(product_categories.index, [x[0] for x in product_categories.values])\n",
    "plt.xticks([])"
   ]
  }
 ],
 "metadata": {
  "kernelspec": {
   "display_name": "Python 3",
   "language": "python",
   "name": "python3"
  },
  "language_info": {
   "codemirror_mode": {
    "name": "ipython",
    "version": 3
   },
   "file_extension": ".py",
   "mimetype": "text/x-python",
   "name": "python",
   "nbconvert_exporter": "python",
   "pygments_lexer": "ipython3",
   "version": "3.7.4"
  }
 },
 "nbformat": 4,
 "nbformat_minor": 2
}
