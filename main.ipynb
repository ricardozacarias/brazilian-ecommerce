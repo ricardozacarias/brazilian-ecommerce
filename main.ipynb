{
 "cells": [
  {
   "cell_type": "markdown",
   "metadata": {},
   "source": [
    "## Brazillian E-Commerce Dataset\n",
    "#### Downloaded from [Kaggle](https://www.kaggle.com/olistbr/brazilian-ecommerce)\n",
    "\n",
    "**About the data:**\n",
    "> The dataset has information of 100k orders from 2016 to 2018 made at multiple marketplaces in Brazil. Its features allows viewing an order from multiple dimensions: from order status, price, payment and freight performance to customer location, product attributes and finally reviews written by customers. We also released a geolocation dataset that relates Brazilian zip codes to lat/lng coordinates.\n",
    "\n",
    "**About Olist.com**\n",
    "> This dataset was generously provided by Olist, the largest department store in Brazilian marketplaces. Olist connects small businesses from all over Brazil to channels without hassle and with a single contract. Those merchants are able to sell their products through the Olist Store and ship them directly to the customers using Olist logistics partners.\n",
    "\n",
    "**Attention**\n",
    "- An order might have multiple items.\n",
    "- Each item might be fulfilled by a distinct seller.\n",
    "- All text identifying stores and partners where replaced by the names of Game of Thrones great houses.\n",
    "\n",
    "**Schema**\n",
    "<img src=\"ds-schema.png\" style=\"width: 600px;\">\n",
    "\n",
    "### Description of columns\n",
    "\n",
    "| Dataset | Column  | Description  |\n",
    "| --- | --- | --- |\n",
    "| *Orders* | order_id | unique identifier of the order. |\n",
    "| *Orders* | customer_id | key to the customer dataset. Each order has a unique customer_id. |\n",
    "| *Orders* | order_status | Reference to the order status (delivered, shipped, etc). |\n",
    "| *Orders* | order_purchase_timestamp | Shows the purchase timestamp. |\n",
    "| *Orders* | order_approved_at | Shows the payment approval timestamp. |\n",
    "| *Orders* | order_delivered_carrier_date | Shows the order posting timestamp. When it was handled to the logistic partner. |\n",
    "| *Orders* | order_delivered_customer_date | Shows the actual order delivery date to the customer. |\n",
    "| *Orders* | order_estimated_delivery_date | Shows the estimated delivery date that was informed to customer at the purchase moment. |\n",
    "| --- | --- | --- |\n",
    "| *Payments* | payment_sequential | a customer may pay with more than one payment method. If so, a sequence will be created to accommodate all payments. |\n",
    "| *Payments* | payment_type | method of payment chosen by the customer. |\n",
    "| *Payments* | payment_installments | number of installments chosen by the customer. |\n",
    "| *Payments* | payment_value | transaction value. |\n",
    "| --- | --- | --- |\n",
    "| *Reviews* | review_id | unique review identifier |\n",
    "| *Reviews* | review_score | Note ranging from 1 to 5 given by the customer on a satisfaction survey. |\n",
    "| *Reviews* | review_comment_title | Comment title from the review left by the customer, in Portuguese. |\n",
    "| *Reviews* | review_comment_message | Comment message from the review left by the customer, in Portuguese. |\n",
    "| *Reviews* | review_creation_date | Shows the date in which the satisfaction survey was sent to the customer. |\n",
    "| *Reviews* | review_answer_timestamp | Shows satisfaction survey answer timestamp. |\n",
    "| --- | --- | --- |\n",
    "| *Items* | order_item_id | sequential number identifying number of items included in the same order. |\n",
    "| *Items* | product_id | product unique identifier |\n",
    "| *Items* | seller_id | seller unique identifier |\n",
    "| *Items* | shipping_limit_date | Shows the seller shipping limit date for handling the order over to the logistic partner. |\n",
    "| *Items* | price | item price |\n",
    "| *Items* | freight_value | item freight value item (if an order has more than one item the freight value is splitted between items) |\n",
    "| --- | --- | --- |\n",
    "| *Products* | product_category_name | root category of product, in Portuguese. |\n",
    "| *Products* | product_name_lenght | number of characters extracted from the product name. |\n",
    "| *Products* | product_description_lenght | number of characters extracted from the product description. |\n",
    "| *Products* | product_photos_qty | number of product published photos |\n",
    "| *Products* | product_weight_g | product weight measured in grams. |\n",
    "| *Products* | product_length_cm | product length measured in centimeters. |\n",
    "| *Products* | product_height_cm | product height measured in centimeters. |\n",
    "| *Products* | product_width_cm | product width measured in centimeters. |"
   ]
  },
  {
   "cell_type": "code",
   "execution_count": 863,
   "metadata": {},
   "outputs": [],
   "source": [
    "# libraries\n",
    "import numpy as np\n",
    "import pandas as pd\n",
    "import matplotlib.pyplot as plt\n",
    "import datetime as dt\n",
    "import statsmodels.api as sm"
   ]
  },
  {
   "cell_type": "code",
   "execution_count": 864,
   "metadata": {},
   "outputs": [],
   "source": [
    "# matplotlib params\n",
    "hfont = {'fontname':'sans-serif'}\n",
    "\n",
    "# pandas params\n",
    "pd.options.display.max_rows = 100"
   ]
  },
  {
   "cell_type": "code",
   "execution_count": 865,
   "metadata": {},
   "outputs": [],
   "source": [
    "data_path = 'C:/Users/Zaca/Documents/Datasets/brazilian-ecommerce/olist_'"
   ]
  },
  {
   "cell_type": "code",
   "execution_count": 866,
   "metadata": {},
   "outputs": [],
   "source": [
    "# opening datasets individually (ignored customers and sellers)\n",
    "orders = pd.read_csv(data_path + 'orders_dataset.csv')\n",
    "items = pd.read_csv(data_path + 'order_items_dataset.csv')\n",
    "products = pd.read_csv(data_path + 'products_dataset.csv')\n",
    "payments = pd.read_csv(data_path + 'order_payments_dataset.csv')\n",
    "reviews = pd.read_csv(data_path + 'order_reviews_dataset.csv')\n",
    "\n",
    "data = {'orders': orders,\n",
    "        'items': items, \n",
    "        'products': products,\n",
    "        'payments': payments,\n",
    "        'reviews': reviews}"
   ]
  },
  {
   "cell_type": "markdown",
   "metadata": {},
   "source": [
    "## Data cleaning"
   ]
  },
  {
   "cell_type": "markdown",
   "metadata": {},
   "source": [
    "### Orders\n",
    "- This is the most important data set as its like a *linking table*, and is connected to a lot of other datatsets by *order_id*."
   ]
  },
  {
   "cell_type": "code",
   "execution_count": 867,
   "metadata": {},
   "outputs": [
    {
     "name": "stdout",
     "output_type": "stream",
     "text": [
      "Order cols:  ['order_id' 'customer_id' 'order_status' 'order_purchase_timestamp'\n",
      " 'order_approved_at' 'order_delivered_carrier_date'\n",
      " 'order_delivered_customer_date' 'order_estimated_delivery_date']\n"
     ]
    }
   ],
   "source": [
    "print('Order cols: ' , data['orders'].columns.values)\n",
    "\n",
    "# i've decided I'm not interested in order_approved, and order_delivered_carrier_date\n",
    "orders_drop_cols = ['order_approved_at', \n",
    "                    'order_delivered_carrier_date']\n",
    "\n",
    "data['orders'].drop(orders_drop_cols, axis= 1, inplace= True)"
   ]
  },
  {
   "cell_type": "code",
   "execution_count": 868,
   "metadata": {
    "scrolled": true
   },
   "outputs": [
    {
     "name": "stdout",
     "output_type": "stream",
     "text": [
      "delivered      96478\n",
      "shipped         1107\n",
      "canceled         625\n",
      "unavailable      609\n",
      "invoiced         314\n",
      "processing       301\n",
      "created            5\n",
      "approved           2\n",
      "Name: order_status, dtype: int64\n"
     ]
    }
   ],
   "source": [
    "# for the purpose of this analysis I'll be selecting only orders that have been in fact, delivered\n",
    "print(data['orders']['order_status'].value_counts())"
   ]
  },
  {
   "cell_type": "code",
   "execution_count": 869,
   "metadata": {
    "scrolled": true
   },
   "outputs": [
    {
     "name": "stdout",
     "output_type": "stream",
     "text": [
      "Taking only delivered orders we still get 97.02% of data.\n"
     ]
    }
   ],
   "source": [
    "print('Taking only delivered orders we still get ' + \n",
    "      str(round((data['orders'].order_status.value_counts()['delivered']/len(data['orders']))*100,2)) +\n",
    "      '% of data.')"
   ]
  },
  {
   "cell_type": "code",
   "execution_count": 870,
   "metadata": {},
   "outputs": [],
   "source": [
    "# first I will get all order_id where the order status was delivered\n",
    "delivered = data['orders']['order_id'][data['orders']['order_status'] != 'delivered'].values\n",
    "\n",
    "# now filter every other dataframe where order_id is a foreign key\n",
    "for key, value in data.items():\n",
    "    if 'order_id' in value.columns:\n",
    "        value.drop(value.loc[value['order_id'].isin(delivered)].index, inplace = True)\n"
   ]
  },
  {
   "cell_type": "code",
   "execution_count": 871,
   "metadata": {},
   "outputs": [
    {
     "name": "stdout",
     "output_type": "stream",
     "text": [
      "order_delivered_customer_date (%): 0.006761610953809745\n",
      "product_category_name (%): 0.5155728352279931\n",
      "product_name_lenght (%): 0.5155728352279931\n",
      "product_description_lenght (%): 0.5155728352279931\n",
      "product_photos_qty (%): 0.5155728352279931\n",
      "product_weight_g (%): 0.0016904027384524363\n",
      "product_length_cm (%): 0.0016904027384524363\n",
      "product_height_cm (%): 0.0016904027384524363\n",
      "product_width_cm (%): 0.0016904027384524363\n",
      "review_comment_title (%): 72.42530532899464\n",
      "review_comment_message (%): 48.3979208046317\n"
     ]
    }
   ],
   "source": [
    "# checking for nans in each dataset\n",
    "for key, value in data.items():\n",
    "    for col in value.columns:\n",
    "        # print only col names where there are nans\n",
    "        if value[col].isnull().sum():\n",
    "            print(col + ' (%): ' + str((sum(value[col].isnull())/len(ds))*100))"
   ]
  },
  {
   "cell_type": "code",
   "execution_count": 872,
   "metadata": {},
   "outputs": [
    {
     "name": "stdout",
     "output_type": "stream",
     "text": [
      "There are only 8 orders that are missing delivery dates.\n"
     ]
    }
   ],
   "source": [
    "# let's deal first with orders nans\n",
    "# I've observed that these nans in the orders list are not really overlapping, and the only ones I really\n",
    "# care about are the delivered_customer_date.\n",
    "print('There are only ' + str(data['orders'].order_delivered_customer_date.isnull().sum()) + \n",
    "      ' orders that are missing delivery dates.')"
   ]
  },
  {
   "cell_type": "code",
   "execution_count": 873,
   "metadata": {},
   "outputs": [],
   "source": [
    "# we can drop them the same way as before\n",
    "# first I will get all order_id where the order status was delivered\n",
    "null_deliveries = data['orders']['order_id'][data['orders']['order_delivered_customer_date'].isnull()].values\n",
    "\n",
    "# now filter every other dataframe where order_id is a foreign key\n",
    "for key, value in data.items():\n",
    "    if 'order_id' in value.columns:\n",
    "        value.drop(value.loc[value['order_id'].isin(null_deliveries)].index, inplace = True)"
   ]
  },
  {
   "cell_type": "code",
   "execution_count": 874,
   "metadata": {},
   "outputs": [],
   "source": [
    "# there are 3 date columns in the orders dataset that I will transform to datetime and keep only the date\n",
    "# ignoring hours minutes and seconds\n",
    "data['orders'].order_purchase_timestamp = pd.to_datetime(data['orders'].order_purchase_timestamp).dt.date\n",
    "data['orders'].order_delivered_customer_date = pd.to_datetime(data['orders'].order_delivered_customer_date).dt.date\n",
    "data['orders'].order_estimated_delivery_date = pd.to_datetime(data['orders'].order_estimated_delivery_date).dt.date"
   ]
  },
  {
   "cell_type": "code",
   "execution_count": 875,
   "metadata": {},
   "outputs": [],
   "source": [
    "# I'm not particularly interested in the actual date of delivery, but more if it was delivered on time\n",
    "data['orders']['delivered_on_time'] = np.where(data['orders'].order_delivered_customer_date < data['orders'].order_estimated_delivery_date, 1, 0)"
   ]
  },
  {
   "cell_type": "markdown",
   "metadata": {},
   "source": [
    "**Note:** *this column could be used with a geometric distribution? For example: how many orders until one doesn't get delivered on time?* \n",
    "\n",
    "TODO: demonstrate it's a geometric distribution (Goodness of Fit on Monday)"
   ]
  },
  {
   "cell_type": "markdown",
   "metadata": {},
   "source": [
    "### Reviews"
   ]
  },
  {
   "cell_type": "code",
   "execution_count": 876,
   "metadata": {},
   "outputs": [
    {
     "name": "stdout",
     "output_type": "stream",
     "text": [
      "Review cols:  ['review_id' 'order_id' 'review_score' 'review_comment_title'\n",
      " 'review_comment_message' 'review_creation_date' 'review_answer_timestamp']\n"
     ]
    }
   ],
   "source": [
    "print('Review cols: ' , data['reviews'].columns.values)"
   ]
  },
  {
   "cell_type": "code",
   "execution_count": 877,
   "metadata": {},
   "outputs": [],
   "source": [
    "# the review_comment_title column is 88% NaN so i'll just drop it. \n",
    "# TODO: nans for reviews just means there are none (?). \n",
    "# So maybe just assume that's all there is and use the data separately for a etxt analysis (in M3) ENDTODO\n",
    "\n",
    "# and when the review was sent to the customer\n",
    "review_drop_cols = ['review_comment_title']\n",
    "data['reviews'].drop(review_drop_cols, axis= 1, inplace= True)"
   ]
  },
  {
   "cell_type": "code",
   "execution_count": 878,
   "metadata": {},
   "outputs": [],
   "source": [
    "# for now I won't do any text analysis so I'm not super interested in the comment message\n",
    "# it looks like in this column there are nans if people did not leave a review\n",
    "# I don't want to drop the column, so I will just replace nan by 0 and the review by 1\n",
    "data['reviews']['review_comment_message'] = np.where(data['reviews']['review_comment_message'].isnull(), 0, 1)"
   ]
  },
  {
   "cell_type": "markdown",
   "metadata": {},
   "source": [
    "### Products"
   ]
  },
  {
   "cell_type": "code",
   "execution_count": 879,
   "metadata": {},
   "outputs": [
    {
     "name": "stdout",
     "output_type": "stream",
     "text": [
      "Product cols:  ['product_id' 'product_category_name' 'product_name_lenght'\n",
      " 'product_description_lenght' 'product_photos_qty' 'product_weight_g'\n",
      " 'product_length_cm' 'product_height_cm' 'product_width_cm']\n"
     ]
    }
   ],
   "source": [
    "print('Product cols: ' , data['products'].columns.values)\n",
    "\n",
    "# I've decided I'm not interested in the length of the name or the description of the product (too many nans)\n",
    "# also I can't think of anything to do with the size attributes of each product\n",
    "product_drop_cols = ['product_name_lenght', \n",
    "                     'product_description_lenght', \n",
    "                     'product_weight_g', \n",
    "                     'product_length_cm', \n",
    "                     'product_height_cm',\n",
    "                     'product_width_cm']\n",
    "\n",
    "data['products'].drop(product_drop_cols, axis= 1, inplace= True)"
   ]
  },
  {
   "cell_type": "code",
   "execution_count": 880,
   "metadata": {},
   "outputs": [],
   "source": [
    "# after looking at a gigantic list of categories for products \n",
    "# I think it's safe to assume that I can replace nans in these columns by 'other'\n",
    "data['products']['product_category_name'].fillna(value='outro', inplace=True)"
   ]
  },
  {
   "cell_type": "code",
   "execution_count": 881,
   "metadata": {},
   "outputs": [],
   "source": [
    "# there are no zeros in the photos_qty column, somehow I doubt there are NO products with zero photos\n",
    "# will fill nans with zero in this column\n",
    "data['products']['product_photos_qty'].fillna(value=0, inplace=True)"
   ]
  },
  {
   "cell_type": "markdown",
   "metadata": {},
   "source": [
    "TODO: profile of the most sold product, and probability of selling that product. Do they earn more by selling more expensive products or less expensive? (based on the probability of selling them)"
   ]
  },
  {
   "cell_type": "markdown",
   "metadata": {},
   "source": [
    "### Payments"
   ]
  },
  {
   "cell_type": "code",
   "execution_count": 882,
   "metadata": {},
   "outputs": [
    {
     "name": "stdout",
     "output_type": "stream",
     "text": [
      "Payment cols:  ['order_id' 'payment_sequential' 'payment_type' 'payment_installments'\n",
      " 'payment_value']\n"
     ]
    }
   ],
   "source": [
    "# i'll keep all these for now.\n",
    "print('Payment cols: ' , data['payments'].columns.values)"
   ]
  },
  {
   "cell_type": "markdown",
   "metadata": {},
   "source": [
    "### Items"
   ]
  },
  {
   "cell_type": "code",
   "execution_count": 883,
   "metadata": {},
   "outputs": [
    {
     "name": "stdout",
     "output_type": "stream",
     "text": [
      "Item cols:  ['order_id' 'order_item_id' 'product_id' 'seller_id' 'shipping_limit_date'\n",
      " 'price' 'freight_value']\n"
     ]
    }
   ],
   "source": [
    "# i'll keep all these for now.\n",
    "print('Item cols: ' , data['items'].columns.values)\n",
    "data['items'].shipping_limit_date = pd.to_datetime(data['items'].shipping_limit_date).dt.date"
   ]
  },
  {
   "cell_type": "markdown",
   "metadata": {},
   "source": [
    "## Exploratory Data Analysis"
   ]
  },
  {
   "cell_type": "markdown",
   "metadata": {},
   "source": [
    "### Orders\n",
    "#### Delivered on time?"
   ]
  },
  {
   "cell_type": "code",
   "execution_count": 884,
   "metadata": {},
   "outputs": [
    {
     "data": {
      "image/png": "[encoded data removed]",
      "text/plain": [
       "<Figure size 432x288 with 1 Axes>"
      ]
     },
     "metadata": {},
     "output_type": "display_data"
    }
   ],
   "source": [
    "# let's see the proportion of deliveries that arrive before the estimated date.\n",
    "fig, ax = plt.subplots()\n",
    "plt.title('Orders Delivered',**hfont)\n",
    "labels = 'On time', 'Delayed'\n",
    "prob_on_time = data['orders'].delivered_on_time.sum()/len(data['orders'].delivered_on_time)\n",
    "sizes = [prob_on_time, 1 - prob_on_time]\n",
    "explode = (0, 0.12)\n",
    "ax.pie(sizes, explode, labels, autopct='%1.1f%%');"
   ]
  },
  {
   "cell_type": "markdown",
   "metadata": {},
   "source": [
    "#### Timeseries of orders"
   ]
  },
  {
   "cell_type": "code",
   "execution_count": 885,
   "metadata": {},
   "outputs": [
    {
     "name": "stdout",
     "output_type": "stream",
     "text": [
      "First registered order:  2016-09-15\n",
      "Last registered order:  2018-08-29\n"
     ]
    },
    {
     "data": {
      "image/png": "[encoded data removed]",
      "text/plain": [
       "<Figure size 432x288 with 1 Axes>"
      ]
     },
     "metadata": {
      "needs_background": "light"
     },
     "output_type": "display_data"
    }
   ],
   "source": [
    "# purchase_timestamp also has interesting information about the frequency of orders\n",
    "min_order_date = data['orders'].order_purchase_timestamp.min()\n",
    "max_order_date = data['orders'].order_purchase_timestamp.max()\n",
    "print('First registered order: ', min_order_date)\n",
    "print('Last registered order: ', max_order_date)\n",
    "\n",
    "# creating a list of days between the beggining of the dataset and the end.\n",
    "order_dates = [min_order_date + datetime.timedelta(days= i) for i in range((max_order_date - min_order_date).days)]\n",
    "\n",
    "# I want to histogram the dates and then plot a line\n",
    "# but numpy histogram only works with numbers so we need to do the following\n",
    "to_timestamp = np.vectorize(lambda x: (x - dt.date(1970, 1, 1)).total_seconds())\n",
    "time_stamps = to_timestamp(data['orders'].order_purchase_timestamp)\n",
    "order_histogram = np.histogram(time_stamps, bins = len(order_dates))[0]\n",
    "\n",
    "\n",
    "fig, ax = plt.subplots()\n",
    "ax.plot(order_dates, order_histogram);"
   ]
  },
  {
   "cell_type": "code",
   "execution_count": 886,
   "metadata": {},
   "outputs": [
    {
     "name": "stdout",
     "output_type": "stream",
     "text": [
      "Highest order date: 2017-11-24\n",
      "# of orders: 1147\n"
     ]
    }
   ],
   "source": [
    "# cool peak, let's check the date of when this happened\n",
    "dates_and_counts = list(zip(order_dates, order_histogram))\n",
    "print('Highest order date: ' + str(max(dates_and_counts, key=lambda x: x[1])[0]))\n",
    "print('# of orders: ' + str(max(dates_and_counts, key=lambda x: x[1])[1]))"
   ]
  },
  {
   "cell_type": "markdown",
   "metadata": {},
   "source": [
    "#### Seasonal analysis"
   ]
  },
  {
   "cell_type": "code",
   "execution_count": 887,
   "metadata": {
    "scrolled": true
   },
   "outputs": [
    {
     "data": {
      "image/png": "[encoded data removed]",
      "text/plain": [
       "<Figure size 432x288 with 4 Axes>"
      ]
     },
     "metadata": {
      "needs_background": "light"
     },
     "output_type": "display_data"
    }
   ],
   "source": [
    "# place data into DataFrame\n",
    "timeseries = pd.DataFrame(dates_and_counts, columns=['Date', 'Orders'])\n",
    "\n",
    "# convert date column into datetime... again.\n",
    "timeseries['Date'] = pd.to_datetime(timeseries['Date'])\n",
    "\n",
    "# set Date as index and drop it.\n",
    "timeseries.set_index('Date', drop=True, inplace=True)\n",
    "\n",
    "# run decomposition model\n",
    "decomposition = sm.tsa.seasonal_decompose(timeseries, model= 'additive')\n",
    "\n",
    "# plot, my god it is horrible. TODO: make plot nicer.\n",
    "fig = decomposition.plot()\n",
    "plt.show()"
   ]
  },
  {
   "cell_type": "markdown",
   "metadata": {},
   "source": [
    "#### Better seasonal analysis"
   ]
  },
  {
   "cell_type": "code",
   "execution_count": 888,
   "metadata": {},
   "outputs": [
    {
     "data": {
      "image/png": "[encoded data removed]",
      "text/plain": [
       "<Figure size 432x288 with 4 Axes>"
      ]
     },
     "metadata": {
      "needs_background": "light"
     },
     "output_type": "display_data"
    }
   ],
   "source": [
    "# ok let's try this again by with resampling, this might be too much data :D\n",
    "decomposition = sm.tsa.seasonal_decompose(timeseries.resample('M').mean(), model='additive')\n",
    "fig = decomposition.plot()"
   ]
  },
  {
   "cell_type": "markdown",
   "metadata": {},
   "source": [
    "### here goes an attempt to interpret this.\n",
    "*the statsmodels seasonal decomposition returns 4 objects that are plotted here.*\n",
    "- **observed** - The data series that has been decomposed - *i think the rolling mean of the input data*\n",
    "- **seasonal** - The seasonal component of the data series - *seasonality, high on black friday, small bump again on jan/feb*\n",
    "- **trend** - The trend component of the data series - *it goes up, they have more and more customers over time*\n",
    "- **resid** - The residual component of the data series - *oops this doesn't look good*"
   ]
  },
  {
   "cell_type": "markdown",
   "metadata": {},
   "source": [
    "### Black Friday"
   ]
  },
  {
   "cell_type": "markdown",
   "metadata": {},
   "source": [
    "- *it seems that 24/11/2017 was [Black Friday](https://en.wikipedia.org/wiki/Black_Friday_(shopping)). it could be interesting (TODO) to see the average price of items bought that day agains the price of the same items any other day. also, there are two years so why only one peak? (TODO: compare the two different Black Fridays, is the avg same?) maybe there were no discounts in the other black friday (Friday, November 25)*\n",
    "\n",
    "- *Product sold on Black Friday VS general product. How common is normally to sell the products they sell during Black Friday?*"
   ]
  },
  {
   "cell_type": "code",
   "execution_count": 899,
   "metadata": {},
   "outputs": [
    {
     "data": {
      "text/plain": [
       "422879e10f46682990de24d770e7f83d    25\n",
       "368c6c730842d78016ad823897a372db    23\n",
       "9ecadb84c81da840dbf3564378b586e9    18\n",
       "53759a2ecddad2bb87a079a1f1519f73    18\n",
       "389d119b48cf3043d311335e499d9c6b    14\n",
       "                                    ..\n",
       "12dc5e5d178b930cf87cf16e812fc2d5     1\n",
       "d3257d83b50d04301c9d969a0e2ec4ee     1\n",
       "62c89abe1afe3a23c17765d462718a4c     1\n",
       "4eebe44f76b0976eab5c92eebeac8b55     1\n",
       "9e0e152552a1323f7e5dcf63d50cdae3     1\n",
       "Name: product_id, Length: 901, dtype: int64"
      ]
     },
     "execution_count": 899,
     "metadata": {},
     "output_type": "execute_result"
    }
   ],
   "source": [
    "# based on the schema, we merge the products dataset with the items dataset\n",
    "items_product = data['items'].merge(data['products'], on= 'product_id', how= 'inner')\n",
    "\n",
    "# store the black friday dates\n",
    "black_friday_2016 = dt.date(2016, 11, 25)\n",
    "black_friday_2017 = dt.date(2017, 11, 24)\n",
    "\n",
    "# filter order_id by black friday date\n",
    "bf17_orders = data['orders'][data['orders']['order_purchase_timestamp'] == black_friday_2017]['order_id'].values\n",
    "\n",
    "# use order_id to get products\n",
    "bf17_products = items_product[items_product['order_id'].isin(bf17_orders)]\n",
    "bf17_products['product_id'].value_counts()"
   ]
  },
  {
   "cell_type": "markdown",
   "metadata": {},
   "source": [
    "### Payments"
   ]
  },
  {
   "cell_type": "code",
   "execution_count": 891,
   "metadata": {},
   "outputs": [
    {
     "name": "stdout",
     "output_type": "stream",
     "text": [
      "Index(['order_id', 'payment_sequential', 'payment_type',\n",
      "       'payment_installments', 'payment_value'],\n",
      "      dtype='object')\n"
     ]
    }
   ],
   "source": [
    "print(data['payments'].columns)"
   ]
  },
  {
   "cell_type": "code",
   "execution_count": 892,
   "metadata": {
    "scrolled": true
   },
   "outputs": [
    {
     "data": {
      "image/png": "[encoded data removed]",
      "text/plain": [
       "<Figure size 432x288 with 1 Axes>"
      ]
     },
     "metadata": {},
     "output_type": "display_data"
    }
   ],
   "source": [
    "# let's see the proportion of payments by payment type\n",
    "payment_types = data['payments'].payment_type.value_counts()\n",
    "\n",
    "# show a pie plot\n",
    "fig, ax = plt.subplots()\n",
    "plt.title('Payment Type',**hfont)\n",
    "labels = [x.replace('_', ' ').capitalize() for x in payment_types.index]\n",
    "sizes = payment_types.values\n",
    "ax.pie(x= sizes, labels=labels);"
   ]
  },
  {
   "cell_type": "markdown",
   "metadata": {},
   "source": [
    "*one idea I have with the payments dataset is the relationship between the number of installments and the price of the order, maybe there's some form os probability distribution that we can model?*"
   ]
  },
  {
   "cell_type": "markdown",
   "metadata": {},
   "source": [
    "### Reviews"
   ]
  },
  {
   "cell_type": "code",
   "execution_count": 893,
   "metadata": {},
   "outputs": [
    {
     "data": {
      "text/plain": [
       "(array([ 9753.,  3015.,  8056., 19040., 57143.]),\n",
       " array([1, 2, 3, 4, 5, 6]),\n",
       " <a list of 5 Patch objects>)"
      ]
     },
     "execution_count": 893,
     "metadata": {},
     "output_type": "execute_result"
    },
    {
     "data": {
      "image/png": "[encoded data removed]",
      "text/plain": [
       "<Figure size 432x288 with 1 Axes>"
      ]
     },
     "metadata": {
      "needs_background": "light"
     },
     "output_type": "display_data"
    }
   ],
   "source": [
    "# first thing we might look at is the distribution of review scores\n",
    "plt.xticks([x + 0.5 for x in range(1, 7)], range(1, 7))\n",
    "plt.hist(data['reviews'].review_score, bins= range(1, 7), rwidth=0.95)"
   ]
  },
  {
   "cell_type": "markdown",
   "metadata": {},
   "source": [
    "- TODO: bag of words and word cloud on most used words\n",
    "- oops I dropped the comment column!"
   ]
  },
  {
   "cell_type": "markdown",
   "metadata": {},
   "source": [
    "### Items"
   ]
  },
  {
   "cell_type": "code",
   "execution_count": 894,
   "metadata": {
    "scrolled": true
   },
   "outputs": [
    {
     "data": {
      "image/png": "[encoded data removed]",
      "text/plain": [
       "<Figure size 432x288 with 1 Axes>"
      ]
     },
     "metadata": {
      "needs_background": "light"
     },
     "output_type": "display_data"
    }
   ],
   "source": [
    "# let's see the distribution of item prices? why not.\n",
    "plt.hist(data['items'].price, bins=50, range=(0, 1000));"
   ]
  },
  {
   "cell_type": "markdown",
   "metadata": {},
   "source": [
    "*could this be a poisson? exponential?*\n",
    "\n",
    "TODO: goodness of Fit on Monday"
   ]
  },
  {
   "cell_type": "markdown",
   "metadata": {},
   "source": [
    "### Products"
   ]
  },
  {
   "cell_type": "code",
   "execution_count": 895,
   "metadata": {},
   "outputs": [
    {
     "name": "stdout",
     "output_type": "stream",
     "text": [
      "Index(['product_id', 'product_category_name', 'product_photos_qty'], dtype='object')\n"
     ]
    }
   ],
   "source": [
    "print(data['products'].columns)"
   ]
  },
  {
   "cell_type": "code",
   "execution_count": 896,
   "metadata": {},
   "outputs": [
    {
     "data": {
      "image/png": "[encoded data removed]",
      "text/plain": [
       "<Figure size 432x288 with 1 Axes>"
      ]
     },
     "metadata": {
      "needs_background": "light"
     },
     "output_type": "display_data"
    }
   ],
   "source": [
    "# histogram of number of photos in a product listing\n",
    "plt.hist(data['products'].product_photos_qty, bins= 20);"
   ]
  },
  {
   "cell_type": "code",
   "execution_count": 897,
   "metadata": {},
   "outputs": [],
   "source": [
    "# let's look at product categories\n",
    "product_categories = data['products'].groupby('product_category_name').agg({'product_id':'count'}).sort_values(by='product_id', ascending=False)"
   ]
  },
  {
   "cell_type": "code",
   "execution_count": 898,
   "metadata": {},
   "outputs": [
    {
     "data": {
      "text/plain": [
       "([], <a list of 0 Text xticklabel objects>)"
      ]
     },
     "execution_count": 898,
     "metadata": {},
     "output_type": "execute_result"
    },
    {
     "data": {
      "image/png": "[encoded data removed]",
      "text/plain": [
       "<Figure size 432x288 with 1 Axes>"
      ]
     },
     "metadata": {
      "needs_background": "light"
     },
     "output_type": "display_data"
    }
   ],
   "source": [
    "plt.bar(product_categories.index, [x[0] for x in product_categories.values])\n",
    "plt.xticks([])"
   ]
  },
  {
   "cell_type": "markdown",
   "metadata": {},
   "source": [
    "TODO: profile of customer and of seller (estimation of population)"
   ]
  }
 ],
 "metadata": {
  "kernelspec": {
   "display_name": "Python 3",
   "language": "python",
   "name": "python3"
  },
  "language_info": {
   "codemirror_mode": {
    "name": "ipython",
    "version": 3
   },
   "file_extension": ".py",
   "mimetype": "text/x-python",
   "name": "python",
   "nbconvert_exporter": "python",
   "pygments_lexer": "ipython3",
   "version": "3.7.4"
  }
 },
 "nbformat": 4,
 "nbformat_minor": 2
}
